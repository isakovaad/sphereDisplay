{
 "cells": [
  {
   "cell_type": "markdown",
   "id": "a6d79c4c-6353-43db-bb71-e0c5354caaf5",
   "metadata": {},
   "source": [
    "# Data Collector\n",
    "- Meeting Audio Data Collector \n",
    "- Connects to ESP32 and records labeled audio data for ML training\n",
    "- Usage: python data_collector.ipynb"
   ]
  },
  {
   "cell_type": "code",
   "execution_count": 1,
   "id": "ac7ce4e1-1f9b-4c2a-a4cb-71e9300ea02a",
   "metadata": {},
   "outputs": [],
   "source": [
    "import websocket\n",
    "import json\n",
    "import pandas as pd\n",
    "import numpy as np\n",
    "import threading\n",
    "import time\n",
    "import os\n",
    "import sys\n",
    "from datetime import datetime\n",
    "from collections import deque\n",
    "import signal"
   ]
  },
  {
   "cell_type": "code",
   "execution_count": null,
   "id": "4cbea666-07cc-4cea-8078-7ecf2318c528",
   "metadata": {},
   "outputs": [
    {
     "name": "stdout",
     "output_type": "stream",
     "text": [
      "Meeting Audio Data Collector v1.0\n",
      "==================================================\n"
     ]
    },
    {
     "name": "stdin",
     "output_type": "stream",
     "text": [
      "ESP32 IP address (192.168.1.100):  192.168.0.110\n"
     ]
    },
    {
     "name": "stdout",
     "output_type": "stream",
     "text": [
      "Starting Meeting Audio Data Collector...\n",
      "Connecting to ESP32 at ws://192.168.0.110:81...\n",
      "Connected to ESP32!\n",
      "Waiting for connection... (1/10)\n",
      "\n",
      "============================================================\n",
      "Meeting Audio Recorder v1.0\n",
      "ESP32: 192.168.0.110:81 - CONNECTED\n",
      "Status: STOPPED\n",
      "============================================================\n",
      "Recent Audio Data:\n",
      "   1: L:  66.0dB | R:  64.7dB | Diff:   1.3dB | Avg:  65.4dB\n",
      "   2: L:  59.2dB | R:  57.9dB | Diff:   1.3dB | Avg:  58.5dB\n",
      "   3: L:  60.6dB | R:  60.0dB | Diff:   0.6dB | Avg:  60.3dB\n",
      "   4: L:  58.5dB | R:  58.8dB | Diff:  -0.4dB | Avg:  58.6dB\n",
      "\n",
      "Commands:\n",
      "[s] Start/Stop recording\n",
      "[l] Add label\n",
      "[v] View recent data\n",
      "[i] Change ESP32 IP\n",
      "[q] Quit\n"
     ]
    },
    {
     "name": "stdin",
     "output_type": "stream",
     "text": [
      "\n",
      "Enter command:  s\n"
     ]
    },
    {
     "name": "stdout",
     "output_type": "stream",
     "text": [
      "Recording started: meeting_20250617_144307\n",
      "\n",
      "============================================================\n",
      "Meeting Audio Recorder v1.0\n",
      "ESP32: 192.168.0.110:81 - CONNECTED\n",
      "Status: RECORDING\n",
      "Recording Duration: 0.0 seconds\n",
      "Samples Collected: 0\n",
      "Session ID: meeting_20250617_144307\n",
      "\n",
      "Current Labels:\n",
      "============================================================\n",
      "Recent Audio Data:\n",
      "   1: L:  83.9dB | R:  77.1dB | Diff:   6.8dB | Avg:  80.5dB\n",
      "   2: L:  91.9dB | R:  88.2dB | Diff:   3.8dB | Avg:  90.0dB\n",
      "   3: L:  61.0dB | R:  59.0dB | Diff:   2.0dB | Avg:  60.0dB\n",
      "   4: L:  61.9dB | R:  67.3dB | Diff:  -5.5dB | Avg:  64.6dB\n",
      "   5: L:  66.6dB | R:  61.8dB | Diff:   4.8dB | Avg:  64.2dB\n",
      "\n",
      "Commands:\n",
      "[s] Start/Stop recording\n",
      "[l] Add label\n",
      "[v] View recent data\n",
      "[i] Change ESP32 IP\n",
      "[q] Quit\n"
     ]
    },
    {
     "name": "stdin",
     "output_type": "stream",
     "text": [
      "\n",
      "Enter command:  v\n"
     ]
    },
    {
     "name": "stdout",
     "output_type": "stream",
     "text": [
      "Recent Audio Data:\n",
      "   1: L:  65.7dB | R:  60.7dB | Diff:   5.1dB | Avg:  63.2dB\n",
      "   2: L:  62.0dB | R:  63.3dB | Diff:  -1.3dB | Avg:  62.6dB\n",
      "   3: L:  61.3dB | R:  63.5dB | Diff:  -2.2dB | Avg:  62.4dB\n",
      "   4: L:  59.6dB | R:  55.9dB | Diff:   3.7dB | Avg:  57.8dB\n",
      "   5: L:  68.2dB | R:  59.8dB | Diff:   8.5dB | Avg:  64.0dB\n"
     ]
    },
    {
     "name": "stdin",
     "output_type": "stream",
     "text": [
      "Press Enter to continue... v\n"
     ]
    },
    {
     "name": "stdout",
     "output_type": "stream",
     "text": [
      "\n",
      "============================================================\n",
      "Meeting Audio Recorder v1.0\n",
      "ESP32: 192.168.0.110:81 - CONNECTED\n",
      "Status: RECORDING\n",
      "Recording Duration: 35.6 seconds\n",
      "Samples Collected: 63\n",
      "Session ID: meeting_20250617_144307\n",
      "\n",
      "Current Labels:\n",
      "============================================================\n",
      "Recent Audio Data:\n",
      "   1: L:  57.5dB | R:  67.2dB | Diff:  -9.7dB | Avg:  62.3dB\n",
      "   2: L:  63.8dB | R:  92.9dB | Diff: -29.1dB | Avg:  78.4dB\n",
      "   3: L:  58.3dB | R:  90.8dB | Diff: -32.5dB | Avg:  74.5dB\n",
      "   4: L:  62.2dB | R:  74.1dB | Diff: -12.0dB | Avg:  68.1dB\n",
      "   5: L:  58.7dB | R:  57.1dB | Diff:   1.6dB | Avg:  57.9dB\n",
      "\n",
      "Commands:\n",
      "[s] Start/Stop recording\n",
      "[l] Add label\n",
      "[v] View recent data\n",
      "[i] Change ESP32 IP\n",
      "[q] Quit\n"
     ]
    },
    {
     "name": "stdin",
     "output_type": "stream",
     "text": [
      "\n",
      "Enter command:  l\n"
     ]
    },
    {
     "name": "stdout",
     "output_type": "stream",
     "text": [
      "\n",
      "Available labels:\n",
      "[1] Speaker count (1, 2, 3+)\n",
      "[2] Meeting type (discussion, presentation, brainstorm, argument)\n",
      "[3] Energy level (low, medium, high)\n",
      "[4] Background noise (none, low, medium, high)\n",
      "[5] Custom label\n"
     ]
    },
    {
     "name": "stdin",
     "output_type": "stream",
     "text": [
      "Select label type (1-5):  1\n",
      "Number of speakers (1, 2, 3+):  2\n"
     ]
    },
    {
     "name": "stdout",
     "output_type": "stream",
     "text": [
      "Added label: speaker_count = 2\n",
      "\n",
      "============================================================\n",
      "Meeting Audio Recorder v1.0\n",
      "ESP32: 192.168.0.110:81 - CONNECTED\n",
      "Status: RECORDING\n",
      "Recording Duration: 188.8 seconds\n",
      "Samples Collected: 332\n",
      "Session ID: meeting_20250617_144307\n",
      "\n",
      "Current Labels:\n",
      "   speaker_count: 2\n",
      "============================================================\n",
      "Recent Audio Data:\n",
      "   1: L:  63.3dB | R:  57.8dB | Diff:   5.6dB | Avg:  60.5dB\n",
      "   2: L:  65.0dB | R:  62.1dB | Diff:   2.9dB | Avg:  63.6dB\n",
      "   3: L:  66.2dB | R:  63.0dB | Diff:   3.2dB | Avg:  64.6dB\n",
      "   4: L:  66.2dB | R:  64.4dB | Diff:   1.8dB | Avg:  65.3dB\n",
      "   5: L:  60.2dB | R:  59.5dB | Diff:   0.7dB | Avg:  59.8dB\n",
      "\n",
      "Commands:\n",
      "[s] Start/Stop recording\n",
      "[l] Add label\n",
      "[v] View recent data\n",
      "[i] Change ESP32 IP\n",
      "[q] Quit\n"
     ]
    },
    {
     "name": "stdin",
     "output_type": "stream",
     "text": [
      "\n",
      "Enter command:  s\n"
     ]
    },
    {
     "name": "stdout",
     "output_type": "stream",
     "text": [
      "Recording stopped. Duration: 208.4 seconds\n",
      "Samples collected: 367\n",
      "Updated master CSV: labels/sessions_master.csv\n",
      "Session saved:\n",
      "   Audio: recordings/meeting_20250617_144307_audio.json\n",
      "   Labels: labels/meeting_20250617_144307_labels.json\n",
      "\n",
      "============================================================\n",
      "Meeting Audio Recorder v1.0\n",
      "ESP32: 192.168.0.110:81 - CONNECTED\n",
      "Status: STOPPED\n",
      "============================================================\n",
      "Recent Audio Data:\n",
      "   1: L:  58.1dB | R:  59.1dB | Diff:  -1.0dB | Avg:  58.6dB\n",
      "   2: L:  68.3dB | R:  63.7dB | Diff:   4.6dB | Avg:  66.0dB\n",
      "   3: L:  64.5dB | R:  65.0dB | Diff:  -0.5dB | Avg:  64.7dB\n",
      "   4: L:  62.4dB | R:  65.1dB | Diff:  -2.7dB | Avg:  63.8dB\n",
      "   5: L:  67.8dB | R:  56.3dB | Diff:  11.5dB | Avg:  62.1dB\n",
      "\n",
      "Commands:\n",
      "[s] Start/Stop recording\n",
      "[l] Add label\n",
      "[v] View recent data\n",
      "[i] Change ESP32 IP\n",
      "[q] Quit\n"
     ]
    },
    {
     "name": "stdin",
     "output_type": "stream",
     "text": [
      "\n",
      "Enter command:  v\n"
     ]
    },
    {
     "name": "stdout",
     "output_type": "stream",
     "text": [
      "Recent Audio Data:\n",
      "   1: L:  62.8dB | R:  57.9dB | Diff:   4.9dB | Avg:  60.4dB\n",
      "   2: L:  67.0dB | R:  67.1dB | Diff:  -0.1dB | Avg:  67.0dB\n",
      "   3: L:  57.4dB | R:  58.2dB | Diff:  -0.9dB | Avg:  57.8dB\n",
      "   4: L:  61.6dB | R:  55.9dB | Diff:   5.7dB | Avg:  58.7dB\n",
      "   5: L:  63.8dB | R:  60.7dB | Diff:   3.2dB | Avg:  62.2dB\n"
     ]
    },
    {
     "name": "stdin",
     "output_type": "stream",
     "text": [
      "Press Enter to continue... s\n"
     ]
    },
    {
     "name": "stdout",
     "output_type": "stream",
     "text": [
      "\n",
      "============================================================\n",
      "Meeting Audio Recorder v1.0\n",
      "ESP32: 192.168.0.110:81 - CONNECTED\n",
      "Status: STOPPED\n",
      "============================================================\n",
      "Recent Audio Data:\n",
      "   1: L:  67.3dB | R:  62.9dB | Diff:   4.4dB | Avg:  65.1dB\n",
      "   2: L:  65.7dB | R:  64.3dB | Diff:   1.4dB | Avg:  65.0dB\n",
      "   3: L:  69.4dB | R:  70.0dB | Diff:  -0.7dB | Avg:  69.7dB\n",
      "   4: L:  71.5dB | R:  67.0dB | Diff:   4.5dB | Avg:  69.3dB\n",
      "   5: L:  64.0dB | R:  60.7dB | Diff:   3.3dB | Avg:  62.4dB\n",
      "\n",
      "Commands:\n",
      "[s] Start/Stop recording\n",
      "[l] Add label\n",
      "[v] View recent data\n",
      "[i] Change ESP32 IP\n",
      "[q] Quit\n"
     ]
    },
    {
     "name": "stdin",
     "output_type": "stream",
     "text": [
      "\n",
      "Enter command:  l\n"
     ]
    },
    {
     "name": "stdout",
     "output_type": "stream",
     "text": [
      "Start recording first!\n",
      "\n",
      "============================================================\n",
      "Meeting Audio Recorder v1.0\n",
      "ESP32: 192.168.0.110:81 - CONNECTED\n",
      "Status: STOPPED\n",
      "============================================================\n",
      "Recent Audio Data:\n",
      "   1: L:  67.9dB | R:  79.7dB | Diff: -11.8dB | Avg:  73.8dB\n",
      "   2: L:  68.6dB | R:  66.6dB | Diff:   1.9dB | Avg:  67.6dB\n",
      "   3: L:  63.4dB | R:  61.4dB | Diff:   2.0dB | Avg:  62.4dB\n",
      "   4: L:  66.5dB | R:  62.6dB | Diff:   3.9dB | Avg:  64.6dB\n",
      "   5: L:  68.3dB | R:  65.3dB | Diff:   3.0dB | Avg:  66.8dB\n",
      "\n",
      "Commands:\n",
      "[s] Start/Stop recording\n",
      "[l] Add label\n",
      "[v] View recent data\n",
      "[i] Change ESP32 IP\n",
      "[q] Quit\n"
     ]
    },
    {
     "name": "stdin",
     "output_type": "stream",
     "text": [
      "\n",
      "Enter command:  l\n"
     ]
    },
    {
     "name": "stdout",
     "output_type": "stream",
     "text": [
      "Start recording first!\n",
      "\n",
      "============================================================\n",
      "Meeting Audio Recorder v1.0\n",
      "ESP32: 192.168.0.110:81 - CONNECTED\n",
      "Status: STOPPED\n",
      "============================================================\n",
      "Recent Audio Data:\n",
      "   1: L:  63.9dB | R:  69.3dB | Diff:  -5.4dB | Avg:  66.6dB\n",
      "   2: L:  65.2dB | R:  60.8dB | Diff:   4.4dB | Avg:  63.0dB\n",
      "   3: L:  58.8dB | R:  60.0dB | Diff:  -1.2dB | Avg:  59.4dB\n",
      "   4: L:  64.9dB | R:  58.5dB | Diff:   6.4dB | Avg:  61.7dB\n",
      "   5: L:  59.7dB | R:  60.7dB | Diff:  -1.0dB | Avg:  60.2dB\n",
      "\n",
      "Commands:\n",
      "[s] Start/Stop recording\n",
      "[l] Add label\n",
      "[v] View recent data\n",
      "[i] Change ESP32 IP\n",
      "[q] Quit\n"
     ]
    },
    {
     "name": "stdin",
     "output_type": "stream",
     "text": [
      "\n",
      "Enter command:  s\n"
     ]
    },
    {
     "name": "stdout",
     "output_type": "stream",
     "text": [
      "Recording started: meeting_20250617_145139\n",
      "\n",
      "============================================================\n",
      "Meeting Audio Recorder v1.0\n",
      "ESP32: 192.168.0.110:81 - CONNECTED\n",
      "Status: RECORDING\n",
      "Recording Duration: 0.0 seconds\n",
      "Samples Collected: 0\n",
      "Session ID: meeting_20250617_145139\n",
      "\n",
      "Current Labels:\n",
      "============================================================\n",
      "Recent Audio Data:\n",
      "   1: L:  67.1dB | R:  67.2dB | Diff:  -0.0dB | Avg:  67.1dB\n",
      "   2: L:  68.2dB | R:  57.6dB | Diff:  10.6dB | Avg:  62.9dB\n",
      "   3: L:  67.9dB | R:  65.0dB | Diff:   2.9dB | Avg:  66.5dB\n",
      "   4: L:  62.6dB | R:  62.6dB | Diff:  -0.0dB | Avg:  62.6dB\n",
      "   5: L:  59.6dB | R:  68.1dB | Diff:  -8.5dB | Avg:  63.8dB\n",
      "\n",
      "Commands:\n",
      "[s] Start/Stop recording\n",
      "[l] Add label\n",
      "[v] View recent data\n",
      "[i] Change ESP32 IP\n",
      "[q] Quit\n"
     ]
    },
    {
     "name": "stdin",
     "output_type": "stream",
     "text": [
      "\n",
      "Enter command:  l\n"
     ]
    },
    {
     "name": "stdout",
     "output_type": "stream",
     "text": [
      "\n",
      "Available labels:\n",
      "[1] Speaker count (1, 2, 3+)\n",
      "[2] Meeting type (discussion, presentation, brainstorm, argument)\n",
      "[3] Energy level (low, medium, high)\n",
      "[4] Background noise (none, low, medium, high)\n",
      "[5] Custom label\n"
     ]
    },
    {
     "name": "stdin",
     "output_type": "stream",
     "text": [
      "Select label type (1-5):  2\n",
      "Meeting type (discussion/presentation/brainstorm/argument):  discussion\n"
     ]
    },
    {
     "name": "stdout",
     "output_type": "stream",
     "text": [
      "Added label: meeting_type = discussion\n",
      "\n",
      "============================================================\n",
      "Meeting Audio Recorder v1.0\n",
      "ESP32: 192.168.0.110:81 - CONNECTED\n",
      "Status: RECORDING\n",
      "Recording Duration: 119.1 seconds\n",
      "Samples Collected: 209\n",
      "Session ID: meeting_20250617_145139\n",
      "\n",
      "Current Labels:\n",
      "   meeting_type: discussion\n",
      "============================================================\n",
      "Recent Audio Data:\n",
      "   1: L:  58.2dB | R:  63.7dB | Diff:  -5.5dB | Avg:  60.9dB\n",
      "   2: L:  65.4dB | R:  68.9dB | Diff:  -3.4dB | Avg:  67.1dB\n",
      "   3: L:  61.6dB | R:  56.5dB | Diff:   5.1dB | Avg:  59.1dB\n",
      "   4: L:  67.6dB | R:  65.0dB | Diff:   2.6dB | Avg:  66.3dB\n",
      "   5: L:  68.1dB | R:  62.2dB | Diff:   5.9dB | Avg:  65.2dB\n",
      "\n",
      "Commands:\n",
      "[s] Start/Stop recording\n",
      "[l] Add label\n",
      "[v] View recent data\n",
      "[i] Change ESP32 IP\n",
      "[q] Quit\n"
     ]
    },
    {
     "name": "stdin",
     "output_type": "stream",
     "text": [
      "\n",
      "Enter command:  l\n"
     ]
    },
    {
     "name": "stdout",
     "output_type": "stream",
     "text": [
      "\n",
      "Available labels:\n",
      "[1] Speaker count (1, 2, 3+)\n",
      "[2] Meeting type (discussion, presentation, brainstorm, argument)\n",
      "[3] Energy level (low, medium, high)\n",
      "[4] Background noise (none, low, medium, high)\n",
      "[5] Custom label\n"
     ]
    },
    {
     "name": "stdin",
     "output_type": "stream",
     "text": [
      "Select label type (1-5):  4\n",
      "Background noise (none/low/medium/high):  low\n"
     ]
    },
    {
     "name": "stdout",
     "output_type": "stream",
     "text": [
      "Added label: background_noise = low\n",
      "\n",
      "============================================================\n",
      "Meeting Audio Recorder v1.0\n",
      "ESP32: 192.168.0.110:81 - CONNECTED\n",
      "Status: RECORDING\n",
      "Recording Duration: 271.0 seconds\n",
      "Samples Collected: 476\n",
      "Session ID: meeting_20250617_145139\n",
      "\n",
      "Current Labels:\n",
      "   meeting_type: discussion\n",
      "   background_noise: low\n",
      "============================================================\n",
      "Recent Audio Data:\n",
      "   1: L:  59.2dB | R:  60.6dB | Diff:  -1.4dB | Avg:  59.9dB\n",
      "   2: L:  62.9dB | R:  56.4dB | Diff:   6.5dB | Avg:  59.7dB\n",
      "   3: L:  61.9dB | R:  58.2dB | Diff:   3.7dB | Avg:  60.1dB\n",
      "   4: L:  65.0dB | R:  68.6dB | Diff:  -3.5dB | Avg:  66.8dB\n",
      "   5: L:  66.2dB | R:  61.1dB | Diff:   5.1dB | Avg:  63.7dB\n",
      "\n",
      "Commands:\n",
      "[s] Start/Stop recording\n",
      "[l] Add label\n",
      "[v] View recent data\n",
      "[i] Change ESP32 IP\n",
      "[q] Quit\n"
     ]
    },
    {
     "name": "stdin",
     "output_type": "stream",
     "text": [
      "\n",
      "Enter command:  s\n"
     ]
    },
    {
     "name": "stdout",
     "output_type": "stream",
     "text": [
      "Recording stopped. Duration: 377.1 seconds\n",
      "Samples collected: 650\n",
      "Updated master CSV: labels/sessions_master.csv\n",
      "Session saved:\n",
      "   Audio: recordings/meeting_20250617_145139_audio.json\n",
      "   Labels: labels/meeting_20250617_145139_labels.json\n",
      "\n",
      "============================================================\n",
      "Meeting Audio Recorder v1.0\n",
      "ESP32: 192.168.0.110:81 - CONNECTED\n",
      "Status: STOPPED\n",
      "============================================================\n",
      "Recent Audio Data:\n",
      "   1: L:  59.0dB | R:  67.2dB | Diff:  -8.1dB | Avg:  63.1dB\n",
      "   2: L:  66.4dB | R:  68.3dB | Diff:  -1.9dB | Avg:  67.4dB\n",
      "   3: L:  58.8dB | R:  57.4dB | Diff:   1.4dB | Avg:  58.1dB\n",
      "   4: L:  67.3dB | R:  63.3dB | Diff:   4.0dB | Avg:  65.3dB\n",
      "   5: L:  63.7dB | R:  60.0dB | Diff:   3.7dB | Avg:  61.9dB\n",
      "\n",
      "Commands:\n",
      "[s] Start/Stop recording\n",
      "[l] Add label\n",
      "[v] View recent data\n",
      "[i] Change ESP32 IP\n",
      "[q] Quit\n"
     ]
    }
   ],
   "source": [
    "class MeetingDataCollector:\n",
    "    def __init__(self, esp32_ip=\"192.168.1.100\", port=81):\n",
    "        self.esp32_ip = esp32_ip\n",
    "        self.port = port\n",
    "        self.ws_url = f\"ws://{esp32_ip}:{port}\"\n",
    "        \n",
    "        # Data storage\n",
    "        self.audio_data = deque(maxlen=10000)  # Store last 10k samples\n",
    "        self.session_data = []\n",
    "        self.recording = False\n",
    "        self.connected = False\n",
    "        \n",
    "        # Session metadata\n",
    "        self.session_id = None\n",
    "        self.session_labels = {}\n",
    "        self.start_time = None\n",
    "        \n",
    "        # Create directories\n",
    "        os.makedirs(\"recordings\", exist_ok=True)\n",
    "        os.makedirs(\"labels\", exist_ok=True)\n",
    "        \n",
    "        # WebSocket setup\n",
    "        self.ws = None\n",
    "        self.running = True\n",
    "        \n",
    "        # Setup signal handler for graceful shutdown\n",
    "        signal.signal(signal.SIGINT, self.signal_handler)\n",
    "    \n",
    "    def signal_handler(self, signum, frame):\n",
    "        \"\"\"Handle Ctrl+C gracefully\"\"\"\n",
    "        print(\"\\nShutting down gracefully...\")\n",
    "        self.stop_recording()\n",
    "        self.running = False\n",
    "        if self.ws:\n",
    "            self.ws.close()\n",
    "        sys.exit(0)\n",
    "    \n",
    "    def on_message(self, ws, message):\n",
    "        \"\"\"Handle incoming WebSocket messages\"\"\"\n",
    "        try:\n",
    "            data = json.loads(message)\n",
    "            \n",
    "            # Add local timestamp\n",
    "            data['local_timestamp'] = time.time()\n",
    "            data['local_datetime'] = datetime.now().isoformat()\n",
    "            \n",
    "            # Store data\n",
    "            self.audio_data.append(data)\n",
    "            \n",
    "            # If recording, add to session data\n",
    "            if self.recording:\n",
    "                self.session_data.append(data)\n",
    "                \n",
    "        except json.JSONDecodeError:\n",
    "            print(f\"Error parsing message: {message}\")\n",
    "        except Exception as e:\n",
    "            print(f\"Error in on_message: {e}\")\n",
    "    \n",
    "    def on_error(self, ws, error):\n",
    "        \"\"\"Handle WebSocket errors\"\"\"\n",
    "        print(f\"WebSocket error: {error}\")\n",
    "        self.connected = False\n",
    "    \n",
    "    def on_close(self, ws, close_status_code, close_msg):\n",
    "        \"\"\"Handle WebSocket close\"\"\"\n",
    "        print(\"WebSocket connection closed\")\n",
    "        self.connected = False\n",
    "    \n",
    "    def on_open(self, ws):\n",
    "        \"\"\"Handle WebSocket open\"\"\"\n",
    "        print(\"Connected to ESP32!\")\n",
    "        self.connected = True\n",
    "    \n",
    "    def connect_to_esp32(self):\n",
    "        \"\"\"Connect to ESP32 WebSocket\"\"\"\n",
    "        print(f\"Connecting to ESP32 at {self.ws_url}...\")\n",
    "        \n",
    "        try:\n",
    "            self.ws = websocket.WebSocketApp(\n",
    "                self.ws_url,\n",
    "                on_message=self.on_message,\n",
    "                on_error=self.on_error,\n",
    "                on_close=self.on_close,\n",
    "                on_open=self.on_open\n",
    "            )\n",
    "            \n",
    "            # Start WebSocket in separate thread\n",
    "            self.ws_thread = threading.Thread(target=self.ws.run_forever)\n",
    "            self.ws_thread.daemon = True\n",
    "            self.ws_thread.start()\n",
    "            \n",
    "            # Wait for connection\n",
    "            timeout = 10\n",
    "            for i in range(timeout):\n",
    "                if self.connected:\n",
    "                    return True\n",
    "                time.sleep(1)\n",
    "                print(f\"Waiting for connection... ({i+1}/{timeout})\")\n",
    "            \n",
    "            print(\"Connection timeout!\")\n",
    "            return False\n",
    "            \n",
    "        except Exception as e:\n",
    "            print(f\"Connection failed: {e}\")\n",
    "            return False\n",
    "    \n",
    "    def start_recording(self):\n",
    "        \"\"\"Start a new recording session\"\"\"\n",
    "        if self.recording:\n",
    "            print(\"Already recording!\")\n",
    "            return\n",
    "        \n",
    "        # Generate session ID\n",
    "        self.session_id = f\"meeting_{datetime.now().strftime('%Y%m%d_%H%M%S')}\"\n",
    "        self.start_time = time.time()\n",
    "        self.session_data = []\n",
    "        self.session_labels = {\n",
    "            'session_id': self.session_id,\n",
    "            'start_time': datetime.now().isoformat(),\n",
    "            'esp32_ip': self.esp32_ip\n",
    "        }\n",
    "        \n",
    "        self.recording = True\n",
    "        print(f\"Recording started: {self.session_id}\")\n",
    "    \n",
    "    def stop_recording(self):\n",
    "        \"\"\"Stop recording and save data\"\"\"\n",
    "        if not self.recording:\n",
    "            print(\"Not currently recording!\")\n",
    "            return\n",
    "        \n",
    "        self.recording = False\n",
    "        duration = time.time() - self.start_time\n",
    "        \n",
    "        print(f\"Recording stopped. Duration: {duration:.1f} seconds\")\n",
    "        print(f\"Samples collected: {len(self.session_data)}\")\n",
    "        \n",
    "        if len(self.session_data) > 0:\n",
    "            self.save_session()\n",
    "        else:\n",
    "            print(\"No data to save!\")\n",
    "    \n",
    "    def save_session(self):\n",
    "        \"\"\"Save session data to files\"\"\"\n",
    "        if not self.session_data:\n",
    "            print(\"No data to save!\")\n",
    "            return\n",
    "        \n",
    "        try:\n",
    "            # Add final metadata\n",
    "            self.session_labels['end_time'] = datetime.now().isoformat()\n",
    "            self.session_labels['duration_seconds'] = time.time() - self.start_time\n",
    "            self.session_labels['sample_count'] = len(self.session_data)\n",
    "            \n",
    "            # Save audio data as JSON\n",
    "            audio_filename = f\"recordings/{self.session_id}_audio.json\"\n",
    "            with open(audio_filename, 'w') as f:\n",
    "                json.dump(self.session_data, f, indent=2)\n",
    "            \n",
    "            # Save labels as JSON\n",
    "            labels_filename = f\"labels/{self.session_id}_labels.json\"\n",
    "            with open(labels_filename, 'w') as f:\n",
    "                json.dump(self.session_labels, f, indent=2)\n",
    "            \n",
    "            # Append to master CSV\n",
    "            self.update_master_csv()\n",
    "            \n",
    "            print(f\"Session saved:\")\n",
    "            print(f\"   Audio: {audio_filename}\")\n",
    "            print(f\"   Labels: {labels_filename}\")\n",
    "            \n",
    "        except Exception as e:\n",
    "            print(f\"Error saving session: {e}\")\n",
    "    \n",
    "    def update_master_csv(self):\n",
    "        \"\"\"Update master CSV with session summary\"\"\"\n",
    "        csv_file = \"labels/sessions_master.csv\"\n",
    "        \n",
    "        # Create summary row\n",
    "        summary = {\n",
    "            'session_id': self.session_labels['session_id'],\n",
    "            'start_time': self.session_labels['start_time'],\n",
    "            'duration_seconds': self.session_labels['duration_seconds'],\n",
    "            'sample_count': self.session_labels['sample_count'],\n",
    "            'speaker_count': self.session_labels.get('speaker_count', 'unknown'),\n",
    "            'meeting_type': self.session_labels.get('meeting_type', 'unknown'),\n",
    "            'energy_level': self.session_labels.get('energy_level', 'unknown'),\n",
    "            'background_noise': self.session_labels.get('background_noise', 'unknown'),\n",
    "            'notes': self.session_labels.get('notes', '')\n",
    "        }\n",
    "        \n",
    "        # Load existing CSV or create new one\n",
    "        if os.path.exists(csv_file):\n",
    "            df = pd.read_csv(csv_file)\n",
    "            df = pd.concat([df, pd.DataFrame([summary])], ignore_index=True)\n",
    "        else:\n",
    "            df = pd.DataFrame([summary])\n",
    "        \n",
    "        df.to_csv(csv_file, index=False)\n",
    "        print(f\"Updated master CSV: {csv_file}\")\n",
    "    \n",
    "    def add_label(self, key, value):\n",
    "        \"\"\"Add a label to current session\"\"\"\n",
    "        if not self.recording:\n",
    "            print(\"Start recording first!\")\n",
    "            return\n",
    "        \n",
    "        self.session_labels[key] = value\n",
    "        print(f\"Added label: {key} = {value}\")\n",
    "    \n",
    "    def show_current_data(self):\n",
    "        \"\"\"Display current audio data\"\"\"\n",
    "        if not self.audio_data:\n",
    "            print(\"No data received yet...\")\n",
    "            return\n",
    "        \n",
    "        # Get last 5 samples\n",
    "        recent_samples = list(self.audio_data)[-5:]\n",
    "        \n",
    "        print(\"Recent Audio Data:\")\n",
    "        for i, sample in enumerate(recent_samples, 1):\n",
    "            left = sample.get('leftMic', 0)\n",
    "            right = sample.get('rightMic', 0)\n",
    "            diff = sample.get('difference', 0)\n",
    "            avg = sample.get('averageLevel', 0)\n",
    "            \n",
    "            print(f\"   {i}: L:{left:6.1f}dB | R:{right:6.1f}dB | Diff:{diff:6.1f}dB | Avg:{avg:6.1f}dB\")\n",
    "    \n",
    "    def show_status(self):\n",
    "        \"\"\"Display current status\"\"\"\n",
    "        status = \"RECORDING\" if self.recording else \"STOPPED\"\n",
    "        connection = \"CONNECTED\" if self.connected else \"DISCONNECTED\"\n",
    "        \n",
    "        print(f\"\\n{'='*60}\")\n",
    "        print(f\"Meeting Audio Recorder v1.0\")\n",
    "        print(f\"ESP32: {self.esp32_ip}:{self.port} - {connection}\")\n",
    "        print(f\"Status: {status}\")\n",
    "        \n",
    "        if self.recording:\n",
    "            duration = time.time() - self.start_time\n",
    "            print(f\"Recording Duration: {duration:.1f} seconds\")\n",
    "            print(f\"Samples Collected: {len(self.session_data)}\")\n",
    "            print(f\"Session ID: {self.session_id}\")\n",
    "            \n",
    "            print(f\"\\nCurrent Labels:\")\n",
    "            for key, value in self.session_labels.items():\n",
    "                if key not in ['session_id', 'start_time', 'esp32_ip']:\n",
    "                    print(f\"   {key}: {value}\")\n",
    "        \n",
    "        print(f\"{'='*60}\")\n",
    "    \n",
    "    def interactive_menu(self):\n",
    "        \"\"\"Main interactive menu\"\"\"\n",
    "        print(\"Starting Meeting Audio Data Collector...\")\n",
    "        \n",
    "        # Connect to ESP32\n",
    "        if not self.connect_to_esp32():\n",
    "            print(\"Failed to connect to ESP32. Please check IP and ensure ESP32 is running.\")\n",
    "            return\n",
    "        \n",
    "        # Wait a moment for data to start flowing\n",
    "        time.sleep(2)\n",
    "        \n",
    "        while self.running:\n",
    "            try:\n",
    "                self.show_status()\n",
    "                self.show_current_data()\n",
    "                \n",
    "                print(f\"\\nCommands:\")\n",
    "                print(f\"[s] Start/Stop recording\")\n",
    "                print(f\"[l] Add label\")\n",
    "                print(f\"[v] View recent data\")\n",
    "                print(f\"[i] Change ESP32 IP\")\n",
    "                print(f\"[q] Quit\")\n",
    "                \n",
    "                choice = input(\"\\nEnter command: \").strip().lower()\n",
    "                \n",
    "                if choice == 's':\n",
    "                    if self.recording:\n",
    "                        self.stop_recording()\n",
    "                    else:\n",
    "                        self.start_recording()\n",
    "                \n",
    "                elif choice == 'l':\n",
    "                    if not self.recording:\n",
    "                        print(\"Start recording first!\")\n",
    "                        continue\n",
    "                    \n",
    "                    print(\"\\nAvailable labels:\")\n",
    "                    print(\"[1] Speaker count (1, 2, 3+)\")\n",
    "                    print(\"[2] Meeting type (discussion, presentation, brainstorm, argument)\")\n",
    "                    print(\"[3] Energy level (low, medium, high)\")\n",
    "                    print(\"[4] Background noise (none, low, medium, high)\")\n",
    "                    print(\"[5] Custom label\")\n",
    "                    \n",
    "                    label_choice = input(\"Select label type (1-5): \").strip()\n",
    "                    \n",
    "                    if label_choice == '1':\n",
    "                        value = input(\"Number of speakers (1, 2, 3+): \").strip()\n",
    "                        self.add_label('speaker_count', value)\n",
    "                    elif label_choice == '2':\n",
    "                        value = input(\"Meeting type (discussion/presentation/brainstorm/argument): \").strip()\n",
    "                        self.add_label('meeting_type', value)\n",
    "                    elif label_choice == '3':\n",
    "                        value = input(\"Energy level (low/medium/high): \").strip()\n",
    "                        self.add_label('energy_level', value)\n",
    "                    elif label_choice == '4':\n",
    "                        value = input(\"Background noise (none/low/medium/high): \").strip()\n",
    "                        self.add_label('background_noise', value)\n",
    "                    elif label_choice == '5':\n",
    "                        key = input(\"Label name: \").strip()\n",
    "                        value = input(\"Label value: \").strip()\n",
    "                        self.add_label(key, value)\n",
    "                \n",
    "                elif choice == 'v':\n",
    "                    self.show_current_data()\n",
    "                    input(\"Press Enter to continue...\")\n",
    "                \n",
    "                elif choice == 'i':\n",
    "                    new_ip = input(f\"Current IP: {self.esp32_ip}. Enter new IP: \").strip()\n",
    "                    if new_ip:\n",
    "                        self.esp32_ip = new_ip\n",
    "                        self.ws_url = f\"ws://{new_ip}:{self.port}\"\n",
    "                        print(f\"IP updated to {new_ip}. Restart to connect.\")\n",
    "                \n",
    "                elif choice == 'q':\n",
    "                    if self.recording:\n",
    "                        print(\"Still recording! Stopping...\")\n",
    "                        self.stop_recording()\n",
    "                    break\n",
    "                \n",
    "                else:\n",
    "                    print(\"Invalid command!\")\n",
    "                \n",
    "            except KeyboardInterrupt:\n",
    "                break\n",
    "            except Exception as e:\n",
    "                print(f\"Error in menu: {e}\")\n",
    "        \n",
    "        print(\"Goodbye!\")\n",
    "\n",
    "def main():\n",
    "    \"\"\"Main function\"\"\"\n",
    "    print(\"Meeting Audio Data Collector v1.0\")\n",
    "    print(\"=\"*50)\n",
    "    \n",
    "    # Get ESP32 IP\n",
    "    default_ip = \"192.168.1.100\"\n",
    "    esp32_ip = input(f\"ESP32 IP address ({default_ip}): \").strip()\n",
    "    if not esp32_ip:\n",
    "        esp32_ip = default_ip\n",
    "    \n",
    "    # Create collector and start\n",
    "    collector = MeetingDataCollector(esp32_ip)\n",
    "    collector.interactive_menu()\n",
    "\n",
    "if __name__ == \"__main__\":\n",
    "    main()"
   ]
  },
  {
   "cell_type": "code",
   "execution_count": null,
   "id": "e25e2be5-238d-48f0-9a69-8a3266ed1abf",
   "metadata": {},
   "outputs": [],
   "source": []
  },
  {
   "cell_type": "code",
   "execution_count": null,
   "id": "0ee2fcb8-a1d6-4417-9c20-bed7d534017a",
   "metadata": {},
   "outputs": [],
   "source": []
  },
  {
   "cell_type": "code",
   "execution_count": 2,
   "id": "cd0884bf-5e5d-445e-8e9e-523c25c55c10",
   "metadata": {},
   "outputs": [],
   "source": [
    "# 🎤 Meeting Audio Data Collector v1.0\n",
    "# ESP32 IP address (192.168.1.100): [Enter your ESP32 IP]\n",
    "\n",
    "# 🔌 Connecting to ESP32 at ws://192.168.1.100:81...\n",
    "# ✅ Connected to ESP32!\n",
    "\n",
    "# ====================================================\n",
    "# 🎤 Meeting Audio Recorder v1.0\n",
    "# 📡 ESP32: 192.168.1.100:81 - 🟢 CONNECTED\n",
    "# 📹 Status: ⏸️  STOPPED\n",
    "\n",
    "# 📊 Recent Audio Data:\n",
    "#    1: L: 45.2dB | R: 42.1dB | Diff:  3.1dB | Avg: 43.7dB\n",
    "#    2: L: 46.1dB | R: 41.8dB | Diff:  4.3dB | Avg: 44.0dB\n",
    "#    ...\n",
    "\n",
    "# 📋 Commands:\n",
    "# [s] Start/Stop recording\n",
    "# [l] Add label  \n",
    "# [v] View recent data\n",
    "# [i] Change ESP32 IP\n",
    "# [q] Quit\n",
    "\n",
    "# 👉 Enter command: s"
   ]
  },
  {
   "cell_type": "code",
   "execution_count": null,
   "id": "7eda0ae7-e911-4a5b-8197-0420ddbd9d8f",
   "metadata": {},
   "outputs": [
    {
     "name": "stdout",
     "output_type": "stream",
     "text": [
      "Meeting Audio Data Collector v1.0\n",
      "==================================================\n"
     ]
    },
    {
     "name": "stdin",
     "output_type": "stream",
     "text": [
      "ESP32 IP address (192.168.1.100):  192.168.0.110\n"
     ]
    },
    {
     "name": "stdout",
     "output_type": "stream",
     "text": [
      "Starting Meeting Audio Data Collector...\n",
      "Connecting to ESP32 at ws://192.168.0.110:81...\n",
      "Connected to ESP32!\n",
      "Waiting for connection... (1/10)\n",
      "\n",
      "============================================================\n",
      "Meeting Audio Recorder v1.0\n",
      "ESP32: 192.168.0.110:81 - CONNECTED\n",
      "Status: STOPPED\n",
      "============================================================\n",
      "Recent Audio Data:\n",
      "   1: L:  77.5dB | R:  73.2dB | Diff:   4.3dB | Avg:  75.3dB\n",
      "   2: L:  66.0dB | R:  56.3dB | Diff:   9.7dB | Avg:  61.1dB\n",
      "   3: L:  62.9dB | R:  60.7dB | Diff:   2.2dB | Avg:  61.8dB\n",
      "   4: L:  67.4dB | R:  66.5dB | Diff:   0.8dB | Avg:  66.9dB\n",
      "\n",
      "Commands:\n",
      "[s] Start/Stop recording\n",
      "[l] Add label\n",
      "[v] View recent data\n",
      "[i] Change ESP32 IP\n",
      "[q] Quit\n"
     ]
    },
    {
     "name": "stdin",
     "output_type": "stream",
     "text": [
      "\n",
      "Enter command:  s\n"
     ]
    },
    {
     "name": "stdout",
     "output_type": "stream",
     "text": [
      "Recording started: meeting_20250620_130013\n",
      "\n",
      "============================================================\n",
      "Meeting Audio Recorder v1.0\n",
      "ESP32: 192.168.0.110:81 - CONNECTED\n",
      "Status: RECORDING\n",
      "Recording Duration: 0.0 seconds\n",
      "Samples Collected: 0\n",
      "Session ID: meeting_20250620_130013\n",
      "\n",
      "Current Labels:\n",
      "============================================================\n",
      "Recent Audio Data:\n",
      "   1: L:  62.9dB | R:  60.7dB | Diff:   2.2dB | Avg:  61.8dB\n",
      "   2: L:  67.4dB | R:  66.5dB | Diff:   0.8dB | Avg:  66.9dB\n",
      "   3: L:  64.7dB | R:  63.1dB | Diff:   1.7dB | Avg:  63.9dB\n",
      "   4: L:  67.7dB | R:  65.8dB | Diff:   1.9dB | Avg:  66.8dB\n",
      "   5: L:  67.3dB | R:  65.2dB | Diff:   2.0dB | Avg:  66.3dB\n",
      "\n",
      "Commands:\n",
      "[s] Start/Stop recording\n",
      "[l] Add label\n",
      "[v] View recent data\n",
      "[i] Change ESP32 IP\n",
      "[q] Quit\n"
     ]
    },
    {
     "name": "stdin",
     "output_type": "stream",
     "text": [
      "\n",
      "Enter command:  v\n"
     ]
    },
    {
     "name": "stdout",
     "output_type": "stream",
     "text": [
      "Recent Audio Data:\n",
      "   1: L:  62.8dB | R:  60.1dB | Diff:   2.7dB | Avg:  61.5dB\n",
      "   2: L:  67.5dB | R:  65.1dB | Diff:   2.4dB | Avg:  66.3dB\n",
      "   3: L:  71.0dB | R:  68.5dB | Diff:   2.5dB | Avg:  69.7dB\n",
      "   4: L:  59.0dB | R:  59.5dB | Diff:  -0.5dB | Avg:  59.3dB\n",
      "   5: L:  67.6dB | R:  63.4dB | Diff:   4.2dB | Avg:  65.5dB\n"
     ]
    },
    {
     "name": "stdin",
     "output_type": "stream",
     "text": [
      "Press Enter to continue... \n"
     ]
    },
    {
     "name": "stdout",
     "output_type": "stream",
     "text": [
      "\n",
      "============================================================\n",
      "Meeting Audio Recorder v1.0\n",
      "ESP32: 192.168.0.110:81 - CONNECTED\n",
      "Status: RECORDING\n",
      "Recording Duration: 23.8 seconds\n",
      "Samples Collected: 39\n",
      "Session ID: meeting_20250620_130013\n",
      "\n",
      "Current Labels:\n",
      "============================================================\n",
      "Recent Audio Data:\n",
      "   1: L:  63.9dB | R:  60.9dB | Diff:   3.0dB | Avg:  62.4dB\n",
      "   2: L:  67.8dB | R:  64.7dB | Diff:   3.1dB | Avg:  66.3dB\n",
      "   3: L:  71.8dB | R:  71.4dB | Diff:   0.4dB | Avg:  71.6dB\n",
      "   4: L:  69.8dB | R:  67.0dB | Diff:   2.7dB | Avg:  68.4dB\n",
      "   5: L:  62.8dB | R:  62.9dB | Diff:  -0.1dB | Avg:  62.8dB\n",
      "\n",
      "Commands:\n",
      "[s] Start/Stop recording\n",
      "[l] Add label\n",
      "[v] View recent data\n",
      "[i] Change ESP32 IP\n",
      "[q] Quit\n"
     ]
    },
    {
     "name": "stdin",
     "output_type": "stream",
     "text": [
      "\n",
      "Enter command:  l\n"
     ]
    },
    {
     "name": "stdout",
     "output_type": "stream",
     "text": [
      "\n",
      "Available labels:\n",
      "[1] Speaker count (1, 2, 3+)\n",
      "[2] Meeting type (discussion, presentation, brainstorm, argument)\n",
      "[3] Energy level (low, medium, high)\n",
      "[4] Background noise (none, low, medium, high)\n",
      "[5] Custom label\n"
     ]
    },
    {
     "name": "stdin",
     "output_type": "stream",
     "text": [
      "Select label type (1-5):  1\n",
      "Number of speakers (1, 2, 3+):  2\n"
     ]
    },
    {
     "name": "stdout",
     "output_type": "stream",
     "text": [
      "Added label: speaker_count = 2\n",
      "\n",
      "============================================================\n",
      "Meeting Audio Recorder v1.0\n",
      "ESP32: 192.168.0.110:81 - CONNECTED\n",
      "Status: RECORDING\n",
      "Recording Duration: 66.6 seconds\n",
      "Samples Collected: 114\n",
      "Session ID: meeting_20250620_130013\n",
      "\n",
      "Current Labels:\n",
      "   speaker_count: 2\n",
      "============================================================\n",
      "Recent Audio Data:\n",
      "   1: L:  70.9dB | R:  67.3dB | Diff:   3.6dB | Avg:  69.1dB\n",
      "   2: L:  75.4dB | R:  70.7dB | Diff:   4.8dB | Avg:  73.1dB\n",
      "   3: L:  68.2dB | R:  62.2dB | Diff:   6.0dB | Avg:  65.2dB\n",
      "   4: L:  65.6dB | R:  56.7dB | Diff:   8.9dB | Avg:  61.2dB\n",
      "   5: L:  66.3dB | R:  61.2dB | Diff:   5.1dB | Avg:  63.7dB\n",
      "\n",
      "Commands:\n",
      "[s] Start/Stop recording\n",
      "[l] Add label\n",
      "[v] View recent data\n",
      "[i] Change ESP32 IP\n",
      "[q] Quit\n"
     ]
    },
    {
     "name": "stdin",
     "output_type": "stream",
     "text": [
      "\n",
      "Enter command:  l\n"
     ]
    },
    {
     "name": "stdout",
     "output_type": "stream",
     "text": [
      "\n",
      "Available labels:\n",
      "[1] Speaker count (1, 2, 3+)\n",
      "[2] Meeting type (discussion, presentation, brainstorm, argument)\n",
      "[3] Energy level (low, medium, high)\n",
      "[4] Background noise (none, low, medium, high)\n",
      "[5] Custom label\n"
     ]
    },
    {
     "name": "stdin",
     "output_type": "stream",
     "text": [
      "Select label type (1-5):  2\n",
      "Meeting type (discussion/presentation/brainstorm/argument):  argument\n"
     ]
    },
    {
     "name": "stdout",
     "output_type": "stream",
     "text": [
      "Added label: meeting_type = argument\n",
      "\n",
      "============================================================\n",
      "Meeting Audio Recorder v1.0\n",
      "ESP32: 192.168.0.110:81 - CONNECTED\n",
      "Status: RECORDING\n",
      "Recording Duration: 93.7 seconds\n",
      "Samples Collected: 162\n",
      "Session ID: meeting_20250620_130013\n",
      "\n",
      "Current Labels:\n",
      "   speaker_count: 2\n",
      "   meeting_type: argument\n",
      "============================================================\n",
      "Recent Audio Data:\n",
      "   1: L:  64.6dB | R:  65.3dB | Diff:  -0.7dB | Avg:  64.9dB\n",
      "   2: L:  66.3dB | R:  61.8dB | Diff:   4.5dB | Avg:  64.1dB\n",
      "   3: L:  65.1dB | R:  60.5dB | Diff:   4.6dB | Avg:  62.8dB\n",
      "   4: L:  63.4dB | R:  61.2dB | Diff:   2.2dB | Avg:  62.3dB\n",
      "   5: L:  60.3dB | R:  64.2dB | Diff:  -3.9dB | Avg:  62.3dB\n",
      "\n",
      "Commands:\n",
      "[s] Start/Stop recording\n",
      "[l] Add label\n",
      "[v] View recent data\n",
      "[i] Change ESP32 IP\n",
      "[q] Quit\n"
     ]
    },
    {
     "name": "stdin",
     "output_type": "stream",
     "text": [
      "\n",
      "Enter command:  l\n"
     ]
    },
    {
     "name": "stdout",
     "output_type": "stream",
     "text": [
      "\n",
      "Available labels:\n",
      "[1] Speaker count (1, 2, 3+)\n",
      "[2] Meeting type (discussion, presentation, brainstorm, argument)\n",
      "[3] Energy level (low, medium, high)\n",
      "[4] Background noise (none, low, medium, high)\n",
      "[5] Custom label\n"
     ]
    },
    {
     "name": "stdin",
     "output_type": "stream",
     "text": [
      "Select label type (1-5):  3\n",
      "Energy level (low/medium/high):  high\n"
     ]
    },
    {
     "name": "stdout",
     "output_type": "stream",
     "text": [
      "Added label: energy_level = high\n",
      "\n",
      "============================================================\n",
      "Meeting Audio Recorder v1.0\n",
      "ESP32: 192.168.0.110:81 - CONNECTED\n",
      "Status: RECORDING\n",
      "Recording Duration: 115.5 seconds\n",
      "Samples Collected: 200\n",
      "Session ID: meeting_20250620_130013\n",
      "\n",
      "Current Labels:\n",
      "   speaker_count: 2\n",
      "   meeting_type: argument\n",
      "   energy_level: high\n",
      "============================================================\n",
      "Recent Audio Data:\n",
      "   1: L:  60.3dB | R:  62.1dB | Diff:  -1.8dB | Avg:  61.2dB\n",
      "   2: L:  63.6dB | R:  61.0dB | Diff:   2.5dB | Avg:  62.3dB\n",
      "   3: L:  62.6dB | R:  59.2dB | Diff:   3.4dB | Avg:  60.9dB\n",
      "   4: L:  72.3dB | R:  67.1dB | Diff:   5.2dB | Avg:  69.7dB\n",
      "   5: L:  70.7dB | R:  66.4dB | Diff:   4.4dB | Avg:  68.5dB\n",
      "\n",
      "Commands:\n",
      "[s] Start/Stop recording\n",
      "[l] Add label\n",
      "[v] View recent data\n",
      "[i] Change ESP32 IP\n",
      "[q] Quit\n"
     ]
    },
    {
     "name": "stdin",
     "output_type": "stream",
     "text": [
      "\n",
      "Enter command:  l\n"
     ]
    },
    {
     "name": "stdout",
     "output_type": "stream",
     "text": [
      "\n",
      "Available labels:\n",
      "[1] Speaker count (1, 2, 3+)\n",
      "[2] Meeting type (discussion, presentation, brainstorm, argument)\n",
      "[3] Energy level (low, medium, high)\n",
      "[4] Background noise (none, low, medium, high)\n",
      "[5] Custom label\n"
     ]
    },
    {
     "name": "stdin",
     "output_type": "stream",
     "text": [
      "Select label type (1-5):  4\n",
      "Background noise (none/low/medium/high):  high\n"
     ]
    },
    {
     "name": "stdout",
     "output_type": "stream",
     "text": [
      "Added label: background_noise = high\n",
      "\n",
      "============================================================\n",
      "Meeting Audio Recorder v1.0\n",
      "ESP32: 192.168.0.110:81 - CONNECTED\n",
      "Status: RECORDING\n",
      "Recording Duration: 134.3 seconds\n",
      "Samples Collected: 233\n",
      "Session ID: meeting_20250620_130013\n",
      "\n",
      "Current Labels:\n",
      "   speaker_count: 2\n",
      "   meeting_type: argument\n",
      "   energy_level: high\n",
      "   background_noise: high\n",
      "============================================================\n",
      "Recent Audio Data:\n",
      "   1: L:  63.9dB | R:  62.1dB | Diff:   1.7dB | Avg:  63.0dB\n",
      "   2: L:  67.2dB | R:  58.0dB | Diff:   9.2dB | Avg:  62.6dB\n",
      "   3: L:  59.9dB | R:  56.8dB | Diff:   3.1dB | Avg:  58.4dB\n",
      "   4: L:  67.7dB | R:  59.2dB | Diff:   8.5dB | Avg:  63.4dB\n",
      "   5: L:  60.2dB | R:  58.6dB | Diff:   1.6dB | Avg:  59.4dB\n",
      "\n",
      "Commands:\n",
      "[s] Start/Stop recording\n",
      "[l] Add label\n",
      "[v] View recent data\n",
      "[i] Change ESP32 IP\n",
      "[q] Quit\n"
     ]
    },
    {
     "name": "stdin",
     "output_type": "stream",
     "text": [
      "\n",
      "Enter command:  v\n"
     ]
    },
    {
     "name": "stdout",
     "output_type": "stream",
     "text": [
      "Recent Audio Data:\n",
      "   1: L:  60.0dB | R:  56.9dB | Diff:   3.2dB | Avg:  58.4dB\n",
      "   2: L:  58.9dB | R:  59.3dB | Diff:  -0.3dB | Avg:  59.1dB\n",
      "   3: L:  68.8dB | R:  65.9dB | Diff:   2.9dB | Avg:  67.4dB\n",
      "   4: L:  69.4dB | R:  66.4dB | Diff:   3.0dB | Avg:  67.9dB\n",
      "   5: L:  68.1dB | R:  66.9dB | Diff:   1.3dB | Avg:  67.5dB\n"
     ]
    },
    {
     "name": "stdin",
     "output_type": "stream",
     "text": [
      "Press Enter to continue... v\n"
     ]
    },
    {
     "name": "stdout",
     "output_type": "stream",
     "text": [
      "\n",
      "============================================================\n",
      "Meeting Audio Recorder v1.0\n",
      "ESP32: 192.168.0.110:81 - CONNECTED\n",
      "Status: RECORDING\n",
      "Recording Duration: 293.6 seconds\n",
      "Samples Collected: 513\n",
      "Session ID: meeting_20250620_130013\n",
      "\n",
      "Current Labels:\n",
      "   speaker_count: 2\n",
      "   meeting_type: argument\n",
      "   energy_level: high\n",
      "   background_noise: high\n",
      "============================================================\n",
      "Recent Audio Data:\n",
      "   1: L:  69.7dB | R:  66.6dB | Diff:   3.1dB | Avg:  68.1dB\n",
      "   2: L:  67.7dB | R:  66.3dB | Diff:   1.4dB | Avg:  67.0dB\n",
      "   3: L:  67.5dB | R:  65.0dB | Diff:   2.5dB | Avg:  66.2dB\n",
      "   4: L:  64.2dB | R:  60.1dB | Diff:   4.0dB | Avg:  62.1dB\n",
      "   5: L:  72.0dB | R:  67.8dB | Diff:   4.2dB | Avg:  69.9dB\n",
      "\n",
      "Commands:\n",
      "[s] Start/Stop recording\n",
      "[l] Add label\n",
      "[v] View recent data\n",
      "[i] Change ESP32 IP\n",
      "[q] Quit\n"
     ]
    },
    {
     "name": "stdin",
     "output_type": "stream",
     "text": [
      "\n",
      "Enter command:  s\n"
     ]
    },
    {
     "name": "stdout",
     "output_type": "stream",
     "text": [
      "Recording stopped. Duration: 353.4 seconds\n",
      "Samples collected: 618\n",
      "Updated master CSV: labels/sessions_master.csv\n",
      "Session saved:\n",
      "   Audio: recordings/meeting_20250620_130013_audio.json\n",
      "   Labels: labels/meeting_20250620_130013_labels.json\n",
      "\n",
      "============================================================\n",
      "Meeting Audio Recorder v1.0\n",
      "ESP32: 192.168.0.110:81 - CONNECTED\n",
      "Status: STOPPED\n",
      "============================================================\n",
      "Recent Audio Data:\n",
      "   1: L:  66.3dB | R:  62.7dB | Diff:   3.6dB | Avg:  64.5dB\n",
      "   2: L:  71.1dB | R:  68.0dB | Diff:   3.1dB | Avg:  69.6dB\n",
      "   3: L:  65.5dB | R:  67.9dB | Diff:  -2.3dB | Avg:  66.7dB\n",
      "   4: L:  65.8dB | R:  61.9dB | Diff:   3.9dB | Avg:  63.9dB\n",
      "   5: L:  64.9dB | R:  62.4dB | Diff:   2.6dB | Avg:  63.7dB\n",
      "\n",
      "Commands:\n",
      "[s] Start/Stop recording\n",
      "[l] Add label\n",
      "[v] View recent data\n",
      "[i] Change ESP32 IP\n",
      "[q] Quit\n"
     ]
    },
    {
     "name": "stdin",
     "output_type": "stream",
     "text": [
      "\n",
      "Enter command:  s\n"
     ]
    },
    {
     "name": "stdout",
     "output_type": "stream",
     "text": [
      "Recording started: meeting_20250620_130618\n",
      "\n",
      "============================================================\n",
      "Meeting Audio Recorder v1.0\n",
      "ESP32: 192.168.0.110:81 - CONNECTED\n",
      "Status: RECORDING\n",
      "Recording Duration: 0.0 seconds\n",
      "Samples Collected: 0\n",
      "Session ID: meeting_20250620_130618\n",
      "\n",
      "Current Labels:\n",
      "============================================================\n",
      "Recent Audio Data:\n",
      "   1: L:  62.3dB | R:  60.6dB | Diff:   1.6dB | Avg:  61.4dB\n",
      "   2: L:  67.3dB | R:  64.7dB | Diff:   2.5dB | Avg:  66.0dB\n",
      "   3: L:  68.5dB | R:  65.9dB | Diff:   2.6dB | Avg:  67.2dB\n",
      "   4: L:  72.8dB | R:  69.8dB | Diff:   3.0dB | Avg:  71.3dB\n",
      "   5: L:  68.4dB | R:  64.8dB | Diff:   3.7dB | Avg:  66.6dB\n",
      "\n",
      "Commands:\n",
      "[s] Start/Stop recording\n",
      "[l] Add label\n",
      "[v] View recent data\n",
      "[i] Change ESP32 IP\n",
      "[q] Quit\n"
     ]
    },
    {
     "name": "stdin",
     "output_type": "stream",
     "text": [
      "\n",
      "Enter command:  l\n"
     ]
    },
    {
     "name": "stdout",
     "output_type": "stream",
     "text": [
      "\n",
      "Available labels:\n",
      "[1] Speaker count (1, 2, 3+)\n",
      "[2] Meeting type (discussion, presentation, brainstorm, argument)\n",
      "[3] Energy level (low, medium, high)\n",
      "[4] Background noise (none, low, medium, high)\n",
      "[5] Custom label\n"
     ]
    },
    {
     "name": "stdin",
     "output_type": "stream",
     "text": [
      "Select label type (1-5):  1\n",
      "Number of speakers (1, 2, 3+):  3\n"
     ]
    },
    {
     "name": "stdout",
     "output_type": "stream",
     "text": [
      "Added label: speaker_count = 3\n",
      "\n",
      "============================================================\n",
      "Meeting Audio Recorder v1.0\n",
      "ESP32: 192.168.0.110:81 - CONNECTED\n",
      "Status: RECORDING\n",
      "Recording Duration: 20.7 seconds\n",
      "Samples Collected: 36\n",
      "Session ID: meeting_20250620_130618\n",
      "\n",
      "Current Labels:\n",
      "   speaker_count: 3\n",
      "============================================================\n",
      "Recent Audio Data:\n",
      "   1: L:  71.6dB | R:  68.9dB | Diff:   2.7dB | Avg:  70.3dB\n",
      "   2: L:  65.4dB | R:  65.7dB | Diff:  -0.3dB | Avg:  65.6dB\n",
      "   3: L:  67.0dB | R:  60.7dB | Diff:   6.3dB | Avg:  63.8dB\n",
      "   4: L:  61.4dB | R:  64.3dB | Diff:  -2.9dB | Avg:  62.9dB\n",
      "   5: L:  67.5dB | R:  63.8dB | Diff:   3.6dB | Avg:  65.7dB\n",
      "\n",
      "Commands:\n",
      "[s] Start/Stop recording\n",
      "[l] Add label\n",
      "[v] View recent data\n",
      "[i] Change ESP32 IP\n",
      "[q] Quit\n"
     ]
    },
    {
     "name": "stdin",
     "output_type": "stream",
     "text": [
      "\n",
      "Enter command:  l\n"
     ]
    },
    {
     "name": "stdout",
     "output_type": "stream",
     "text": [
      "\n",
      "Available labels:\n",
      "[1] Speaker count (1, 2, 3+)\n",
      "[2] Meeting type (discussion, presentation, brainstorm, argument)\n",
      "[3] Energy level (low, medium, high)\n",
      "[4] Background noise (none, low, medium, high)\n",
      "[5] Custom label\n"
     ]
    },
    {
     "name": "stdin",
     "output_type": "stream",
     "text": [
      "Select label type (1-5):  2\n",
      "Meeting type (discussion/presentation/brainstorm/argument):  discussion\n"
     ]
    },
    {
     "name": "stdout",
     "output_type": "stream",
     "text": [
      "Added label: meeting_type = discussion\n",
      "\n",
      "============================================================\n",
      "Meeting Audio Recorder v1.0\n",
      "ESP32: 192.168.0.110:81 - CONNECTED\n",
      "Status: RECORDING\n",
      "Recording Duration: 42.2 seconds\n",
      "Samples Collected: 74\n",
      "Session ID: meeting_20250620_130618\n",
      "\n",
      "Current Labels:\n",
      "   speaker_count: 3\n",
      "   meeting_type: discussion\n",
      "============================================================\n",
      "Recent Audio Data:\n",
      "   1: L:  69.4dB | R:  67.8dB | Diff:   1.6dB | Avg:  68.6dB\n",
      "   2: L:  71.7dB | R:  68.9dB | Diff:   2.9dB | Avg:  70.3dB\n",
      "   3: L:  65.2dB | R:  61.6dB | Diff:   3.6dB | Avg:  63.4dB\n",
      "   4: L:  60.8dB | R:  58.0dB | Diff:   2.8dB | Avg:  59.4dB\n",
      "   5: L:  63.1dB | R:  58.5dB | Diff:   4.6dB | Avg:  60.8dB\n",
      "\n",
      "Commands:\n",
      "[s] Start/Stop recording\n",
      "[l] Add label\n",
      "[v] View recent data\n",
      "[i] Change ESP32 IP\n",
      "[q] Quit\n"
     ]
    },
    {
     "name": "stdin",
     "output_type": "stream",
     "text": [
      "\n",
      "Enter command:  l\n"
     ]
    },
    {
     "name": "stdout",
     "output_type": "stream",
     "text": [
      "\n",
      "Available labels:\n",
      "[1] Speaker count (1, 2, 3+)\n",
      "[2] Meeting type (discussion, presentation, brainstorm, argument)\n",
      "[3] Energy level (low, medium, high)\n",
      "[4] Background noise (none, low, medium, high)\n",
      "[5] Custom label\n"
     ]
    },
    {
     "name": "stdin",
     "output_type": "stream",
     "text": [
      "Select label type (1-5):  3\n",
      "Energy level (low/medium/high):  high\n"
     ]
    },
    {
     "name": "stdout",
     "output_type": "stream",
     "text": [
      "Added label: energy_level = high\n",
      "\n",
      "============================================================\n",
      "Meeting Audio Recorder v1.0\n",
      "ESP32: 192.168.0.110:81 - CONNECTED\n",
      "Status: RECORDING\n",
      "Recording Duration: 52.2 seconds\n",
      "Samples Collected: 91\n",
      "Session ID: meeting_20250620_130618\n",
      "\n",
      "Current Labels:\n",
      "   speaker_count: 3\n",
      "   meeting_type: discussion\n",
      "   energy_level: high\n",
      "============================================================\n",
      "Recent Audio Data:\n",
      "   1: L:  70.0dB | R:  67.4dB | Diff:   2.6dB | Avg:  68.7dB\n",
      "   2: L:  74.9dB | R:  72.0dB | Diff:   2.9dB | Avg:  73.5dB\n",
      "   3: L:  73.5dB | R:  71.3dB | Diff:   2.2dB | Avg:  72.4dB\n",
      "   4: L:  71.2dB | R:  69.5dB | Diff:   1.7dB | Avg:  70.3dB\n",
      "   5: L:  68.6dB | R:  66.1dB | Diff:   2.5dB | Avg:  67.3dB\n",
      "\n",
      "Commands:\n",
      "[s] Start/Stop recording\n",
      "[l] Add label\n",
      "[v] View recent data\n",
      "[i] Change ESP32 IP\n",
      "[q] Quit\n"
     ]
    },
    {
     "name": "stdin",
     "output_type": "stream",
     "text": [
      "\n",
      "Enter command:  l\n"
     ]
    },
    {
     "name": "stdout",
     "output_type": "stream",
     "text": [
      "\n",
      "Available labels:\n",
      "[1] Speaker count (1, 2, 3+)\n",
      "[2] Meeting type (discussion, presentation, brainstorm, argument)\n",
      "[3] Energy level (low, medium, high)\n",
      "[4] Background noise (none, low, medium, high)\n",
      "[5] Custom label\n"
     ]
    },
    {
     "name": "stdin",
     "output_type": "stream",
     "text": [
      "Select label type (1-5):  4\n",
      "Background noise (none/low/medium/high):  high\n"
     ]
    },
    {
     "name": "stdout",
     "output_type": "stream",
     "text": [
      "Added label: background_noise = high\n",
      "\n",
      "============================================================\n",
      "Meeting Audio Recorder v1.0\n",
      "ESP32: 192.168.0.110:81 - CONNECTED\n",
      "Status: RECORDING\n",
      "Recording Duration: 65.3 seconds\n",
      "Samples Collected: 114\n",
      "Session ID: meeting_20250620_130618\n",
      "\n",
      "Current Labels:\n",
      "   speaker_count: 3\n",
      "   meeting_type: discussion\n",
      "   energy_level: high\n",
      "   background_noise: high\n",
      "============================================================\n",
      "Recent Audio Data:\n",
      "   1: L:  62.3dB | R:  59.1dB | Diff:   3.3dB | Avg:  60.7dB\n",
      "   2: L:  65.7dB | R:  55.8dB | Diff:   9.9dB | Avg:  60.7dB\n",
      "   3: L:  60.8dB | R:  58.8dB | Diff:   2.0dB | Avg:  59.8dB\n",
      "   4: L:  61.4dB | R:  58.5dB | Diff:   2.9dB | Avg:  59.9dB\n",
      "   5: L:  61.1dB | R:  61.0dB | Diff:   0.1dB | Avg:  61.1dB\n",
      "\n",
      "Commands:\n",
      "[s] Start/Stop recording\n",
      "[l] Add label\n",
      "[v] View recent data\n",
      "[i] Change ESP32 IP\n",
      "[q] Quit\n"
     ]
    },
    {
     "name": "stdin",
     "output_type": "stream",
     "text": [
      "\n",
      "Enter command:  s\n"
     ]
    },
    {
     "name": "stdout",
     "output_type": "stream",
     "text": [
      "Recording stopped. Duration: 304.2 seconds\n",
      "Samples collected: 534\n",
      "Updated master CSV: labels/sessions_master.csv\n",
      "Session saved:\n",
      "   Audio: recordings/meeting_20250620_130618_audio.json\n",
      "   Labels: labels/meeting_20250620_130618_labels.json\n",
      "\n",
      "============================================================\n",
      "Meeting Audio Recorder v1.0\n",
      "ESP32: 192.168.0.110:81 - CONNECTED\n",
      "Status: STOPPED\n",
      "============================================================\n",
      "Recent Audio Data:\n",
      "   1: L:  72.6dB | R:  68.8dB | Diff:   3.7dB | Avg:  70.7dB\n",
      "   2: L:  70.9dB | R:  66.3dB | Diff:   4.6dB | Avg:  68.6dB\n",
      "   3: L:  70.9dB | R:  66.5dB | Diff:   4.4dB | Avg:  68.7dB\n",
      "   4: L:  71.8dB | R:  68.8dB | Diff:   3.0dB | Avg:  70.3dB\n",
      "   5: L:  70.6dB | R:  69.9dB | Diff:   0.7dB | Avg:  70.3dB\n",
      "\n",
      "Commands:\n",
      "[s] Start/Stop recording\n",
      "[l] Add label\n",
      "[v] View recent data\n",
      "[i] Change ESP32 IP\n",
      "[q] Quit\n"
     ]
    }
   ],
   "source": []
  },
  {
   "cell_type": "code",
   "execution_count": null,
   "id": "6fba3bf1-dbb1-4f48-b1f4-4bb61c0e1f56",
   "metadata": {},
   "outputs": [
    {
     "name": "stdout",
     "output_type": "stream",
     "text": [
      "Meeting Audio Data Collector v1.0\n",
      "==================================================\n"
     ]
    },
    {
     "name": "stdin",
     "output_type": "stream",
     "text": [
      "ESP32 IP address (192.168.1.100):  192.168.0.110\n"
     ]
    },
    {
     "name": "stdout",
     "output_type": "stream",
     "text": [
      "Starting Meeting Audio Data Collector...\n",
      "Connecting to ESP32 at ws://192.168.0.110:81...\n",
      "Waiting for connection... (1/10)\n",
      "Connected to ESP32!\n",
      "Waiting for connection... (2/10)\n",
      "\n",
      "============================================================\n",
      "Meeting Audio Recorder v1.0\n",
      "ESP32: 192.168.0.110:81 - CONNECTED\n",
      "Status: STOPPED\n",
      "============================================================\n",
      "Recent Audio Data:\n",
      "   1: L:  68.2dB | R:  68.0dB | Diff:   0.2dB | Avg:  68.1dB\n",
      "   2: L:  61.0dB | R:  66.6dB | Diff:  -5.5dB | Avg:  63.8dB\n",
      "   3: L:  63.1dB | R:  62.9dB | Diff:   0.2dB | Avg:  63.0dB\n",
      "   4: L:  59.9dB | R:  66.7dB | Diff:  -6.8dB | Avg:  63.3dB\n",
      "\n",
      "Commands:\n",
      "[s] Start/Stop recording\n",
      "[l] Add label\n",
      "[v] View recent data\n",
      "[i] Change ESP32 IP\n",
      "[q] Quit\n"
     ]
    },
    {
     "name": "stdin",
     "output_type": "stream",
     "text": [
      "\n",
      "Enter command:  s\n"
     ]
    },
    {
     "name": "stdout",
     "output_type": "stream",
     "text": [
      "Recording started: meeting_20250624_132317\n",
      "\n",
      "============================================================\n",
      "Meeting Audio Recorder v1.0\n",
      "ESP32: 192.168.0.110:81 - CONNECTED\n",
      "Status: RECORDING\n",
      "Recording Duration: 0.0 seconds\n",
      "Samples Collected: 0\n",
      "Session ID: meeting_20250624_132317\n",
      "\n",
      "Current Labels:\n",
      "============================================================\n",
      "Recent Audio Data:\n",
      "   1: L:  66.9dB | R:  63.5dB | Diff:   3.5dB | Avg:  65.2dB\n",
      "   2: L:  59.6dB | R:  63.3dB | Diff:  -3.7dB | Avg:  61.4dB\n",
      "   3: L:  68.2dB | R:  64.9dB | Diff:   3.3dB | Avg:  66.5dB\n",
      "   4: L:  61.4dB | R:  61.9dB | Diff:  -0.5dB | Avg:  61.7dB\n",
      "   5: L:  62.5dB | R:  65.0dB | Diff:  -2.5dB | Avg:  63.8dB\n",
      "\n",
      "Commands:\n",
      "[s] Start/Stop recording\n",
      "[l] Add label\n",
      "[v] View recent data\n",
      "[i] Change ESP32 IP\n",
      "[q] Quit\n"
     ]
    },
    {
     "name": "stdin",
     "output_type": "stream",
     "text": [
      "\n",
      "Enter command:  l\n"
     ]
    },
    {
     "name": "stdout",
     "output_type": "stream",
     "text": [
      "\n",
      "Available labels:\n",
      "[1] Speaker count (1, 2, 3+)\n",
      "[2] Meeting type (discussion, presentation, brainstorm, argument)\n",
      "[3] Energy level (low, medium, high)\n",
      "[4] Background noise (none, low, medium, high)\n",
      "[5] Custom label\n"
     ]
    },
    {
     "name": "stdin",
     "output_type": "stream",
     "text": [
      "Select label type (1-5):  1\n",
      "Number of speakers (1, 2, 3+):  3+\n"
     ]
    },
    {
     "name": "stdout",
     "output_type": "stream",
     "text": [
      "Added label: speaker_count = 3+\n",
      "\n",
      "============================================================\n",
      "Meeting Audio Recorder v1.0\n",
      "ESP32: 192.168.0.110:81 - CONNECTED\n",
      "Status: RECORDING\n",
      "Recording Duration: 30.7 seconds\n",
      "Samples Collected: 54\n",
      "Session ID: meeting_20250624_132317\n",
      "\n",
      "Current Labels:\n",
      "   speaker_count: 3+\n",
      "============================================================\n",
      "Recent Audio Data:\n",
      "   1: L:  64.8dB | R:  68.3dB | Diff:  -3.4dB | Avg:  66.5dB\n",
      "   2: L:  60.6dB | R:  60.9dB | Diff:  -0.3dB | Avg:  60.7dB\n",
      "   3: L:  62.5dB | R:  58.2dB | Diff:   4.3dB | Avg:  60.3dB\n",
      "   4: L:  67.5dB | R:  68.7dB | Diff:  -1.2dB | Avg:  68.1dB\n",
      "   5: L:  63.0dB | R:  62.6dB | Diff:   0.5dB | Avg:  62.8dB\n",
      "\n",
      "Commands:\n",
      "[s] Start/Stop recording\n",
      "[l] Add label\n",
      "[v] View recent data\n",
      "[i] Change ESP32 IP\n",
      "[q] Quit\n"
     ]
    },
    {
     "name": "stdin",
     "output_type": "stream",
     "text": [
      "\n",
      "Enter command:  l\n"
     ]
    },
    {
     "name": "stdout",
     "output_type": "stream",
     "text": [
      "\n",
      "Available labels:\n",
      "[1] Speaker count (1, 2, 3+)\n",
      "[2] Meeting type (discussion, presentation, brainstorm, argument)\n",
      "[3] Energy level (low, medium, high)\n",
      "[4] Background noise (none, low, medium, high)\n",
      "[5] Custom label\n"
     ]
    },
    {
     "name": "stdin",
     "output_type": "stream",
     "text": [
      "Select label type (1-5):  2\n",
      "Meeting type (discussion/presentation/brainstorm/argument):  presentation\n"
     ]
    },
    {
     "name": "stdout",
     "output_type": "stream",
     "text": [
      "Added label: meeting_type = presentation\n",
      "\n",
      "============================================================\n",
      "Meeting Audio Recorder v1.0\n",
      "ESP32: 192.168.0.110:81 - CONNECTED\n",
      "Status: RECORDING\n",
      "Recording Duration: 46.8 seconds\n",
      "Samples Collected: 83\n",
      "Session ID: meeting_20250624_132317\n",
      "\n",
      "Current Labels:\n",
      "   speaker_count: 3+\n",
      "   meeting_type: presentation\n",
      "============================================================\n",
      "Recent Audio Data:\n",
      "   1: L:  63.4dB | R:  59.8dB | Diff:   3.6dB | Avg:  61.6dB\n",
      "   2: L:  59.6dB | R:  67.3dB | Diff:  -7.8dB | Avg:  63.4dB\n",
      "   3: L:  67.1dB | R:  64.7dB | Diff:   2.5dB | Avg:  65.9dB\n",
      "   4: L:  68.8dB | R:  68.6dB | Diff:   0.2dB | Avg:  68.7dB\n",
      "   5: L:  59.1dB | R:  65.7dB | Diff:  -6.6dB | Avg:  62.4dB\n",
      "\n",
      "Commands:\n",
      "[s] Start/Stop recording\n",
      "[l] Add label\n",
      "[v] View recent data\n",
      "[i] Change ESP32 IP\n",
      "[q] Quit\n"
     ]
    },
    {
     "name": "stdin",
     "output_type": "stream",
     "text": [
      "\n",
      "Enter command:  l\n"
     ]
    },
    {
     "name": "stdout",
     "output_type": "stream",
     "text": [
      "\n",
      "Available labels:\n",
      "[1] Speaker count (1, 2, 3+)\n",
      "[2] Meeting type (discussion, presentation, brainstorm, argument)\n",
      "[3] Energy level (low, medium, high)\n",
      "[4] Background noise (none, low, medium, high)\n",
      "[5] Custom label\n"
     ]
    },
    {
     "name": "stdin",
     "output_type": "stream",
     "text": [
      "Select label type (1-5):  3\n",
      "Energy level (low/medium/high):  medium\n"
     ]
    },
    {
     "name": "stdout",
     "output_type": "stream",
     "text": [
      "Added label: energy_level = medium\n",
      "\n",
      "============================================================\n",
      "Meeting Audio Recorder v1.0\n",
      "ESP32: 192.168.0.110:81 - CONNECTED\n",
      "Status: RECORDING\n",
      "Recording Duration: 63.9 seconds\n",
      "Samples Collected: 113\n",
      "Session ID: meeting_20250624_132317\n",
      "\n",
      "Current Labels:\n",
      "   speaker_count: 3+\n",
      "   meeting_type: presentation\n",
      "   energy_level: medium\n",
      "============================================================\n",
      "Recent Audio Data:\n",
      "   1: L:  59.1dB | R:  66.7dB | Diff:  -7.6dB | Avg:  62.9dB\n",
      "   2: L:  62.7dB | R:  61.3dB | Diff:   1.4dB | Avg:  62.0dB\n",
      "   3: L:  63.0dB | R:  59.5dB | Diff:   3.5dB | Avg:  61.2dB\n",
      "   4: L:  61.3dB | R:  65.6dB | Diff:  -4.3dB | Avg:  63.5dB\n",
      "   5: L:  63.2dB | R:  65.0dB | Diff:  -1.8dB | Avg:  64.1dB\n",
      "\n",
      "Commands:\n",
      "[s] Start/Stop recording\n",
      "[l] Add label\n",
      "[v] View recent data\n",
      "[i] Change ESP32 IP\n",
      "[q] Quit\n"
     ]
    },
    {
     "name": "stdin",
     "output_type": "stream",
     "text": [
      "\n",
      "Enter command:  l\n"
     ]
    },
    {
     "name": "stdout",
     "output_type": "stream",
     "text": [
      "\n",
      "Available labels:\n",
      "[1] Speaker count (1, 2, 3+)\n",
      "[2] Meeting type (discussion, presentation, brainstorm, argument)\n",
      "[3] Energy level (low, medium, high)\n",
      "[4] Background noise (none, low, medium, high)\n",
      "[5] Custom label\n"
     ]
    },
    {
     "name": "stdin",
     "output_type": "stream",
     "text": [
      "Select label type (1-5):  4\n",
      "Background noise (none/low/medium/high):  none\n"
     ]
    },
    {
     "name": "stdout",
     "output_type": "stream",
     "text": [
      "Added label: background_noise = none\n",
      "\n",
      "============================================================\n",
      "Meeting Audio Recorder v1.0\n",
      "ESP32: 192.168.0.110:81 - CONNECTED\n",
      "Status: RECORDING\n",
      "Recording Duration: 74.0 seconds\n",
      "Samples Collected: 131\n",
      "Session ID: meeting_20250624_132317\n",
      "\n",
      "Current Labels:\n",
      "   speaker_count: 3+\n",
      "   meeting_type: presentation\n",
      "   energy_level: medium\n",
      "   background_noise: none\n",
      "============================================================\n",
      "Recent Audio Data:\n",
      "   1: L:  62.3dB | R:  61.0dB | Diff:   1.3dB | Avg:  61.7dB\n",
      "   2: L:  68.7dB | R:  63.6dB | Diff:   5.1dB | Avg:  66.1dB\n",
      "   3: L:  66.0dB | R:  64.3dB | Diff:   1.8dB | Avg:  65.2dB\n",
      "   4: L:  62.3dB | R:  58.9dB | Diff:   3.4dB | Avg:  60.6dB\n",
      "   5: L:  61.2dB | R:  63.1dB | Diff:  -1.9dB | Avg:  62.2dB\n",
      "\n",
      "Commands:\n",
      "[s] Start/Stop recording\n",
      "[l] Add label\n",
      "[v] View recent data\n",
      "[i] Change ESP32 IP\n",
      "[q] Quit\n"
     ]
    },
    {
     "name": "stdin",
     "output_type": "stream",
     "text": [
      "\n",
      "Enter command:  s\n"
     ]
    },
    {
     "name": "stdout",
     "output_type": "stream",
     "text": [
      "Recording stopped. Duration: 336.5 seconds\n",
      "Samples collected: 568\n",
      "Updated master CSV: labels/sessions_master.csv\n",
      "Session saved:\n",
      "   Audio: recordings/meeting_20250624_132317_audio.json\n",
      "   Labels: labels/meeting_20250624_132317_labels.json\n",
      "\n",
      "============================================================\n",
      "Meeting Audio Recorder v1.0\n",
      "ESP32: 192.168.0.110:81 - CONNECTED\n",
      "Status: STOPPED\n",
      "============================================================\n",
      "Recent Audio Data:\n",
      "   1: L:  68.6dB | R:  64.1dB | Diff:   4.5dB | Avg:  66.3dB\n",
      "   2: L:  69.9dB | R:  64.8dB | Diff:   5.0dB | Avg:  67.4dB\n",
      "   3: L:  61.1dB | R:  67.8dB | Diff:  -6.7dB | Avg:  64.5dB\n",
      "   4: L:  67.1dB | R:  65.1dB | Diff:   2.0dB | Avg:  66.1dB\n",
      "   5: L:  60.3dB | R:  59.6dB | Diff:   0.7dB | Avg:  60.0dB\n",
      "\n",
      "Commands:\n",
      "[s] Start/Stop recording\n",
      "[l] Add label\n",
      "[v] View recent data\n",
      "[i] Change ESP32 IP\n",
      "[q] Quit\n"
     ]
    },
    {
     "name": "stdin",
     "output_type": "stream",
     "text": [
      "\n",
      "Enter command:  s\n"
     ]
    },
    {
     "name": "stdout",
     "output_type": "stream",
     "text": [
      "Recording started: meeting_20250624_132856\n",
      "\n",
      "============================================================\n",
      "Meeting Audio Recorder v1.0\n",
      "ESP32: 192.168.0.110:81 - CONNECTED\n",
      "Status: RECORDING\n",
      "Recording Duration: 0.0 seconds\n",
      "Samples Collected: 0\n",
      "Session ID: meeting_20250624_132856\n",
      "\n",
      "Current Labels:\n",
      "============================================================\n",
      "Recent Audio Data:\n",
      "   1: L:  60.3dB | R:  59.6dB | Diff:   0.7dB | Avg:  60.0dB\n",
      "   2: L:  69.7dB | R:  66.2dB | Diff:   3.5dB | Avg:  68.0dB\n",
      "   3: L:  59.2dB | R:  58.5dB | Diff:   0.7dB | Avg:  58.9dB\n",
      "   4: L:  68.2dB | R:  65.3dB | Diff:   2.9dB | Avg:  66.7dB\n",
      "   5: L:  67.8dB | R:  64.1dB | Diff:   3.7dB | Avg:  66.0dB\n",
      "\n",
      "Commands:\n",
      "[s] Start/Stop recording\n",
      "[l] Add label\n",
      "[v] View recent data\n",
      "[i] Change ESP32 IP\n",
      "[q] Quit\n"
     ]
    },
    {
     "name": "stdin",
     "output_type": "stream",
     "text": [
      "\n",
      "Enter command:  l\n"
     ]
    },
    {
     "name": "stdout",
     "output_type": "stream",
     "text": [
      "\n",
      "Available labels:\n",
      "[1] Speaker count (1, 2, 3+)\n",
      "[2] Meeting type (discussion, presentation, brainstorm, argument)\n",
      "[3] Energy level (low, medium, high)\n",
      "[4] Background noise (none, low, medium, high)\n",
      "[5] Custom label\n"
     ]
    },
    {
     "name": "stdin",
     "output_type": "stream",
     "text": [
      "Select label type (1-5):  1\n",
      "Number of speakers (1, 2, 3+):  3+\n"
     ]
    },
    {
     "name": "stdout",
     "output_type": "stream",
     "text": [
      "Added label: speaker_count = 3+\n",
      "\n",
      "============================================================\n",
      "Meeting Audio Recorder v1.0\n",
      "ESP32: 192.168.0.110:81 - CONNECTED\n",
      "Status: RECORDING\n",
      "Recording Duration: 7.9 seconds\n",
      "Samples Collected: 14\n",
      "Session ID: meeting_20250624_132856\n",
      "\n",
      "Current Labels:\n",
      "   speaker_count: 3+\n",
      "============================================================\n",
      "Recent Audio Data:\n",
      "   1: L:  63.6dB | R:  62.3dB | Diff:   1.3dB | Avg:  62.9dB\n",
      "   2: L:  62.0dB | R:  62.0dB | Diff:   0.0dB | Avg:  62.0dB\n",
      "   3: L:  67.8dB | R:  69.5dB | Diff:  -1.6dB | Avg:  68.6dB\n",
      "   4: L:  63.5dB | R:  60.1dB | Diff:   3.4dB | Avg:  61.8dB\n",
      "   5: L:  61.4dB | R:  59.1dB | Diff:   2.4dB | Avg:  60.3dB\n",
      "\n",
      "Commands:\n",
      "[s] Start/Stop recording\n",
      "[l] Add label\n",
      "[v] View recent data\n",
      "[i] Change ESP32 IP\n",
      "[q] Quit\n"
     ]
    },
    {
     "name": "stdin",
     "output_type": "stream",
     "text": [
      "\n",
      "Enter command:  l\n"
     ]
    },
    {
     "name": "stdout",
     "output_type": "stream",
     "text": [
      "\n",
      "Available labels:\n",
      "[1] Speaker count (1, 2, 3+)\n",
      "[2] Meeting type (discussion, presentation, brainstorm, argument)\n",
      "[3] Energy level (low, medium, high)\n",
      "[4] Background noise (none, low, medium, high)\n",
      "[5] Custom label\n"
     ]
    },
    {
     "name": "stdin",
     "output_type": "stream",
     "text": [
      "Select label type (1-5):  2\n",
      "Meeting type (discussion/presentation/brainstorm/argument):  brainstorm\n"
     ]
    },
    {
     "name": "stdout",
     "output_type": "stream",
     "text": [
      "Added label: meeting_type = brainstorm\n",
      "\n",
      "============================================================\n",
      "Meeting Audio Recorder v1.0\n",
      "ESP32: 192.168.0.110:81 - CONNECTED\n",
      "Status: RECORDING\n",
      "Recording Duration: 21.4 seconds\n",
      "Samples Collected: 37\n",
      "Session ID: meeting_20250624_132856\n",
      "\n",
      "Current Labels:\n",
      "   speaker_count: 3+\n",
      "   meeting_type: brainstorm\n",
      "============================================================\n",
      "Recent Audio Data:\n",
      "   1: L:  60.4dB | R:  66.4dB | Diff:  -5.9dB | Avg:  63.4dB\n",
      "   2: L:  68.4dB | R:  64.7dB | Diff:   3.7dB | Avg:  66.6dB\n",
      "   3: L:  60.0dB | R:  67.2dB | Diff:  -7.2dB | Avg:  63.6dB\n",
      "   4: L:  64.6dB | R:  69.1dB | Diff:  -4.5dB | Avg:  66.9dB\n",
      "   5: L:  68.7dB | R:  66.8dB | Diff:   2.0dB | Avg:  67.8dB\n",
      "\n",
      "Commands:\n",
      "[s] Start/Stop recording\n",
      "[l] Add label\n",
      "[v] View recent data\n",
      "[i] Change ESP32 IP\n",
      "[q] Quit\n"
     ]
    },
    {
     "name": "stdin",
     "output_type": "stream",
     "text": [
      "\n",
      "Enter command:  l\n"
     ]
    },
    {
     "name": "stdout",
     "output_type": "stream",
     "text": [
      "\n",
      "Available labels:\n",
      "[1] Speaker count (1, 2, 3+)\n",
      "[2] Meeting type (discussion, presentation, brainstorm, argument)\n",
      "[3] Energy level (low, medium, high)\n",
      "[4] Background noise (none, low, medium, high)\n",
      "[5] Custom label\n"
     ]
    },
    {
     "name": "stdin",
     "output_type": "stream",
     "text": [
      "Select label type (1-5):  3\n",
      "Energy level (low/medium/high):  medium\n"
     ]
    },
    {
     "name": "stdout",
     "output_type": "stream",
     "text": [
      "Added label: energy_level = medium\n",
      "\n",
      "============================================================\n",
      "Meeting Audio Recorder v1.0\n",
      "ESP32: 192.168.0.110:81 - CONNECTED\n",
      "Status: RECORDING\n",
      "Recording Duration: 30.0 seconds\n",
      "Samples Collected: 53\n",
      "Session ID: meeting_20250624_132856\n",
      "\n",
      "Current Labels:\n",
      "   speaker_count: 3+\n",
      "   meeting_type: brainstorm\n",
      "   energy_level: medium\n",
      "============================================================\n",
      "Recent Audio Data:\n",
      "   1: L:  64.4dB | R:  66.2dB | Diff:  -1.8dB | Avg:  65.3dB\n",
      "   2: L:  60.2dB | R:  62.5dB | Diff:  -2.3dB | Avg:  61.3dB\n",
      "   3: L:  66.0dB | R:  64.6dB | Diff:   1.4dB | Avg:  65.3dB\n",
      "   4: L:  66.3dB | R:  65.1dB | Diff:   1.2dB | Avg:  65.7dB\n",
      "   5: L:  68.0dB | R:  62.4dB | Diff:   5.6dB | Avg:  65.2dB\n",
      "\n",
      "Commands:\n",
      "[s] Start/Stop recording\n",
      "[l] Add label\n",
      "[v] View recent data\n",
      "[i] Change ESP32 IP\n",
      "[q] Quit\n"
     ]
    },
    {
     "name": "stdin",
     "output_type": "stream",
     "text": [
      "\n",
      "Enter command:  l\n"
     ]
    },
    {
     "name": "stdout",
     "output_type": "stream",
     "text": [
      "\n",
      "Available labels:\n",
      "[1] Speaker count (1, 2, 3+)\n",
      "[2] Meeting type (discussion, presentation, brainstorm, argument)\n",
      "[3] Energy level (low, medium, high)\n",
      "[4] Background noise (none, low, medium, high)\n",
      "[5] Custom label\n"
     ]
    },
    {
     "name": "stdin",
     "output_type": "stream",
     "text": [
      "Select label type (1-5):  4\n",
      "Background noise (none/low/medium/high):  low\n"
     ]
    },
    {
     "name": "stdout",
     "output_type": "stream",
     "text": [
      "Added label: background_noise = low\n",
      "\n",
      "============================================================\n",
      "Meeting Audio Recorder v1.0\n",
      "ESP32: 192.168.0.110:81 - CONNECTED\n",
      "Status: RECORDING\n",
      "Recording Duration: 39.4 seconds\n",
      "Samples Collected: 69\n",
      "Session ID: meeting_20250624_132856\n",
      "\n",
      "Current Labels:\n",
      "   speaker_count: 3+\n",
      "   meeting_type: brainstorm\n",
      "   energy_level: medium\n",
      "   background_noise: low\n",
      "============================================================\n",
      "Recent Audio Data:\n",
      "   1: L:  58.9dB | R:  62.6dB | Diff:  -3.7dB | Avg:  60.7dB\n",
      "   2: L:  65.8dB | R:  65.5dB | Diff:   0.3dB | Avg:  65.7dB\n",
      "   3: L:  60.1dB | R:  67.4dB | Diff:  -7.3dB | Avg:  63.8dB\n",
      "   4: L:  64.9dB | R:  64.0dB | Diff:   0.9dB | Avg:  64.5dB\n",
      "   5: L:  62.0dB | R:  59.3dB | Diff:   2.7dB | Avg:  60.6dB\n",
      "\n",
      "Commands:\n",
      "[s] Start/Stop recording\n",
      "[l] Add label\n",
      "[v] View recent data\n",
      "[i] Change ESP32 IP\n",
      "[q] Quit\n"
     ]
    },
    {
     "name": "stdin",
     "output_type": "stream",
     "text": [
      "\n",
      "Enter command:  l\n"
     ]
    },
    {
     "name": "stdout",
     "output_type": "stream",
     "text": [
      "\n",
      "Available labels:\n",
      "[1] Speaker count (1, 2, 3+)\n",
      "[2] Meeting type (discussion, presentation, brainstorm, argument)\n",
      "[3] Energy level (low, medium, high)\n",
      "[4] Background noise (none, low, medium, high)\n",
      "[5] Custom label\n"
     ]
    },
    {
     "name": "stdin",
     "output_type": "stream",
     "text": [
      "Select label type (1-5):  2\n",
      "Meeting type (discussion/presentation/brainstorm/argument):  presentation\n"
     ]
    },
    {
     "name": "stdout",
     "output_type": "stream",
     "text": [
      "Added label: meeting_type = presentation\n",
      "\n",
      "============================================================\n",
      "Meeting Audio Recorder v1.0\n",
      "ESP32: 192.168.0.110:81 - CONNECTED\n",
      "Status: RECORDING\n",
      "Recording Duration: 166.6 seconds\n",
      "Samples Collected: 294\n",
      "Session ID: meeting_20250624_132856\n",
      "\n",
      "Current Labels:\n",
      "   speaker_count: 3+\n",
      "   meeting_type: presentation\n",
      "   energy_level: medium\n",
      "   background_noise: low\n",
      "============================================================\n",
      "Recent Audio Data:\n",
      "   1: L:  59.2dB | R:  67.5dB | Diff:  -8.4dB | Avg:  63.3dB\n",
      "   2: L:  58.4dB | R:  67.4dB | Diff:  -9.0dB | Avg:  62.9dB\n",
      "   3: L:  62.1dB | R:  59.4dB | Diff:   2.7dB | Avg:  60.7dB\n",
      "   4: L:  64.2dB | R:  60.2dB | Diff:   4.0dB | Avg:  62.2dB\n",
      "   5: L:  60.0dB | R:  65.5dB | Diff:  -5.5dB | Avg:  62.7dB\n",
      "\n",
      "Commands:\n",
      "[s] Start/Stop recording\n",
      "[l] Add label\n",
      "[v] View recent data\n",
      "[i] Change ESP32 IP\n",
      "[q] Quit\n"
     ]
    },
    {
     "name": "stdin",
     "output_type": "stream",
     "text": [
      "\n",
      "Enter command:  l\n"
     ]
    },
    {
     "name": "stdout",
     "output_type": "stream",
     "text": [
      "\n",
      "Available labels:\n",
      "[1] Speaker count (1, 2, 3+)\n",
      "[2] Meeting type (discussion, presentation, brainstorm, argument)\n",
      "[3] Energy level (low, medium, high)\n",
      "[4] Background noise (none, low, medium, high)\n",
      "[5] Custom label\n"
     ]
    },
    {
     "name": "stdin",
     "output_type": "stream",
     "text": [
      "Select label type (1-5):  discussion\n"
     ]
    },
    {
     "name": "stdout",
     "output_type": "stream",
     "text": [
      "\n",
      "============================================================\n",
      "Meeting Audio Recorder v1.0\n",
      "ESP32: 192.168.0.110:81 - CONNECTED\n",
      "Status: RECORDING\n",
      "Recording Duration: 360.8 seconds\n",
      "Samples Collected: 636\n",
      "Session ID: meeting_20250624_132856\n",
      "\n",
      "Current Labels:\n",
      "   speaker_count: 3+\n",
      "   meeting_type: presentation\n",
      "   energy_level: medium\n",
      "   background_noise: low\n",
      "============================================================\n",
      "Recent Audio Data:\n",
      "   1: L:  61.3dB | R:  68.3dB | Diff:  -7.0dB | Avg:  64.8dB\n",
      "   2: L:  62.1dB | R:  60.6dB | Diff:   1.5dB | Avg:  61.4dB\n",
      "   3: L:  64.9dB | R:  64.7dB | Diff:   0.2dB | Avg:  64.8dB\n",
      "   4: L:  63.0dB | R:  60.1dB | Diff:   2.9dB | Avg:  61.5dB\n",
      "   5: L:  64.5dB | R:  63.9dB | Diff:   0.6dB | Avg:  64.2dB\n",
      "\n",
      "Commands:\n",
      "[s] Start/Stop recording\n",
      "[l] Add label\n",
      "[v] View recent data\n",
      "[i] Change ESP32 IP\n",
      "[q] Quit\n"
     ]
    },
    {
     "name": "stdin",
     "output_type": "stream",
     "text": [
      "\n",
      "Enter command:  s\n"
     ]
    },
    {
     "name": "stdout",
     "output_type": "stream",
     "text": [
      "Recording stopped. Duration: 390.7 seconds\n",
      "Samples collected: 689\n",
      "Updated master CSV: labels/sessions_master.csv\n",
      "Session saved:\n",
      "   Audio: recordings/meeting_20250624_132856_audio.json\n",
      "   Labels: labels/meeting_20250624_132856_labels.json\n",
      "\n",
      "============================================================\n",
      "Meeting Audio Recorder v1.0\n",
      "ESP32: 192.168.0.110:81 - CONNECTED\n",
      "Status: STOPPED\n",
      "============================================================\n",
      "Recent Audio Data:\n",
      "   1: L:  65.6dB | R:  65.8dB | Diff:  -0.3dB | Avg:  65.7dB\n",
      "   2: L:  72.6dB | R:  65.7dB | Diff:   6.9dB | Avg:  69.2dB\n",
      "   3: L:  67.4dB | R:  63.4dB | Diff:   3.9dB | Avg:  65.4dB\n",
      "   4: L:  67.3dB | R:  64.0dB | Diff:   3.3dB | Avg:  65.7dB\n",
      "   5: L:  69.2dB | R:  66.4dB | Diff:   2.8dB | Avg:  67.8dB\n",
      "\n",
      "Commands:\n",
      "[s] Start/Stop recording\n",
      "[l] Add label\n",
      "[v] View recent data\n",
      "[i] Change ESP32 IP\n",
      "[q] Quit\n"
     ]
    },
    {
     "name": "stdin",
     "output_type": "stream",
     "text": [
      "\n",
      "Enter command:  s\n"
     ]
    },
    {
     "name": "stdout",
     "output_type": "stream",
     "text": [
      "Recording started: meeting_20250624_133532\n",
      "\n",
      "============================================================\n",
      "Meeting Audio Recorder v1.0\n",
      "ESP32: 192.168.0.110:81 - CONNECTED\n",
      "Status: RECORDING\n",
      "Recording Duration: 0.0 seconds\n",
      "Samples Collected: 0\n",
      "Session ID: meeting_20250624_133532\n",
      "\n",
      "Current Labels:\n",
      "============================================================\n",
      "Recent Audio Data:\n",
      "   1: L:  70.1dB | R:  63.9dB | Diff:   6.2dB | Avg:  67.0dB\n",
      "   2: L:  65.0dB | R:  63.8dB | Diff:   1.1dB | Avg:  64.4dB\n",
      "   3: L:  63.0dB | R:  59.4dB | Diff:   3.6dB | Avg:  61.2dB\n",
      "   4: L:  58.8dB | R:  69.4dB | Diff: -10.6dB | Avg:  64.1dB\n",
      "   5: L:  59.5dB | R:  58.2dB | Diff:   1.2dB | Avg:  58.8dB\n",
      "\n",
      "Commands:\n",
      "[s] Start/Stop recording\n",
      "[l] Add label\n",
      "[v] View recent data\n",
      "[i] Change ESP32 IP\n",
      "[q] Quit\n"
     ]
    },
    {
     "name": "stdin",
     "output_type": "stream",
     "text": [
      "\n",
      "Enter command:  l\n"
     ]
    },
    {
     "name": "stdout",
     "output_type": "stream",
     "text": [
      "\n",
      "Available labels:\n",
      "[1] Speaker count (1, 2, 3+)\n",
      "[2] Meeting type (discussion, presentation, brainstorm, argument)\n",
      "[3] Energy level (low, medium, high)\n",
      "[4] Background noise (none, low, medium, high)\n",
      "[5] Custom label\n"
     ]
    },
    {
     "name": "stdin",
     "output_type": "stream",
     "text": [
      "Select label type (1-5):  1\n",
      "Number of speakers (1, 2, 3+):  3+\n"
     ]
    },
    {
     "name": "stdout",
     "output_type": "stream",
     "text": [
      "Added label: speaker_count = 3+\n",
      "\n",
      "============================================================\n",
      "Meeting Audio Recorder v1.0\n",
      "ESP32: 192.168.0.110:81 - CONNECTED\n",
      "Status: RECORDING\n",
      "Recording Duration: 11.6 seconds\n",
      "Samples Collected: 21\n",
      "Session ID: meeting_20250624_133532\n",
      "\n",
      "Current Labels:\n",
      "   speaker_count: 3+\n",
      "============================================================\n",
      "Recent Audio Data:\n",
      "   1: L:  65.4dB | R:  63.6dB | Diff:   1.8dB | Avg:  64.5dB\n",
      "   2: L:  68.5dB | R:  65.8dB | Diff:   2.6dB | Avg:  67.1dB\n",
      "   3: L:  63.2dB | R:  64.5dB | Diff:  -1.3dB | Avg:  63.8dB\n",
      "   4: L:  69.8dB | R:  62.9dB | Diff:   6.9dB | Avg:  66.4dB\n",
      "   5: L:  66.2dB | R:  64.3dB | Diff:   1.9dB | Avg:  65.3dB\n",
      "\n",
      "Commands:\n",
      "[s] Start/Stop recording\n",
      "[l] Add label\n",
      "[v] View recent data\n",
      "[i] Change ESP32 IP\n",
      "[q] Quit\n"
     ]
    },
    {
     "name": "stdin",
     "output_type": "stream",
     "text": [
      "\n",
      "Enter command:  l\n"
     ]
    },
    {
     "name": "stdout",
     "output_type": "stream",
     "text": [
      "\n",
      "Available labels:\n",
      "[1] Speaker count (1, 2, 3+)\n",
      "[2] Meeting type (discussion, presentation, brainstorm, argument)\n",
      "[3] Energy level (low, medium, high)\n",
      "[4] Background noise (none, low, medium, high)\n",
      "[5] Custom label\n"
     ]
    },
    {
     "name": "stdin",
     "output_type": "stream",
     "text": [
      "Select label type (1-5):  2\n",
      "Meeting type (discussion/presentation/brainstorm/argument):  discussion\n"
     ]
    },
    {
     "name": "stdout",
     "output_type": "stream",
     "text": [
      "Added label: meeting_type = discussion\n",
      "\n",
      "============================================================\n",
      "Meeting Audio Recorder v1.0\n",
      "ESP32: 192.168.0.110:81 - CONNECTED\n",
      "Status: RECORDING\n",
      "Recording Duration: 21.2 seconds\n",
      "Samples Collected: 37\n",
      "Session ID: meeting_20250624_133532\n",
      "\n",
      "Current Labels:\n",
      "   speaker_count: 3+\n",
      "   meeting_type: discussion\n",
      "============================================================\n",
      "Recent Audio Data:\n",
      "   1: L:  63.5dB | R:  59.2dB | Diff:   4.4dB | Avg:  61.3dB\n",
      "   2: L:  62.9dB | R:  67.3dB | Diff:  -4.3dB | Avg:  65.1dB\n",
      "   3: L:  61.0dB | R:  57.3dB | Diff:   3.7dB | Avg:  59.2dB\n",
      "   4: L:  64.4dB | R:  63.8dB | Diff:   0.7dB | Avg:  64.1dB\n",
      "   5: L:  68.3dB | R:  69.4dB | Diff:  -1.2dB | Avg:  68.9dB\n",
      "\n",
      "Commands:\n",
      "[s] Start/Stop recording\n",
      "[l] Add label\n",
      "[v] View recent data\n",
      "[i] Change ESP32 IP\n",
      "[q] Quit\n"
     ]
    },
    {
     "name": "stdin",
     "output_type": "stream",
     "text": [
      "\n",
      "Enter command:  l\n"
     ]
    },
    {
     "name": "stdout",
     "output_type": "stream",
     "text": [
      "\n",
      "Available labels:\n",
      "[1] Speaker count (1, 2, 3+)\n",
      "[2] Meeting type (discussion, presentation, brainstorm, argument)\n",
      "[3] Energy level (low, medium, high)\n",
      "[4] Background noise (none, low, medium, high)\n",
      "[5] Custom label\n"
     ]
    },
    {
     "name": "stdin",
     "output_type": "stream",
     "text": [
      "Select label type (1-5):  3\n",
      "Energy level (low/medium/high):  medium\n"
     ]
    },
    {
     "name": "stdout",
     "output_type": "stream",
     "text": [
      "Added label: energy_level = medium\n",
      "\n",
      "============================================================\n",
      "Meeting Audio Recorder v1.0\n",
      "ESP32: 192.168.0.110:81 - CONNECTED\n",
      "Status: RECORDING\n",
      "Recording Duration: 34.7 seconds\n",
      "Samples Collected: 61\n",
      "Session ID: meeting_20250624_133532\n",
      "\n",
      "Current Labels:\n",
      "   speaker_count: 3+\n",
      "   meeting_type: discussion\n",
      "   energy_level: medium\n",
      "============================================================\n",
      "Recent Audio Data:\n",
      "   1: L:  68.8dB | R:  68.6dB | Diff:   0.2dB | Avg:  68.7dB\n",
      "   2: L:  67.4dB | R:  60.5dB | Diff:   6.9dB | Avg:  64.0dB\n",
      "   3: L:  66.8dB | R:  62.4dB | Diff:   4.3dB | Avg:  64.6dB\n",
      "   4: L:  63.8dB | R:  68.7dB | Diff:  -4.9dB | Avg:  66.3dB\n",
      "   5: L:  60.9dB | R:  57.0dB | Diff:   3.9dB | Avg:  59.0dB\n",
      "\n",
      "Commands:\n",
      "[s] Start/Stop recording\n",
      "[l] Add label\n",
      "[v] View recent data\n",
      "[i] Change ESP32 IP\n",
      "[q] Quit\n"
     ]
    },
    {
     "name": "stdin",
     "output_type": "stream",
     "text": [
      "\n",
      "Enter command:  l\n"
     ]
    },
    {
     "name": "stdout",
     "output_type": "stream",
     "text": [
      "\n",
      "Available labels:\n",
      "[1] Speaker count (1, 2, 3+)\n",
      "[2] Meeting type (discussion, presentation, brainstorm, argument)\n",
      "[3] Energy level (low, medium, high)\n",
      "[4] Background noise (none, low, medium, high)\n",
      "[5] Custom label\n"
     ]
    },
    {
     "name": "stdin",
     "output_type": "stream",
     "text": [
      "Select label type (1-5):  4\n",
      "Background noise (none/low/medium/high):  medium\n"
     ]
    },
    {
     "name": "stdout",
     "output_type": "stream",
     "text": [
      "Added label: background_noise = medium\n",
      "\n",
      "============================================================\n",
      "Meeting Audio Recorder v1.0\n",
      "ESP32: 192.168.0.110:81 - CONNECTED\n",
      "Status: RECORDING\n",
      "Recording Duration: 45.7 seconds\n",
      "Samples Collected: 80\n",
      "Session ID: meeting_20250624_133532\n",
      "\n",
      "Current Labels:\n",
      "   speaker_count: 3+\n",
      "   meeting_type: discussion\n",
      "   energy_level: medium\n",
      "   background_noise: medium\n",
      "============================================================\n",
      "Recent Audio Data:\n",
      "   1: L:  61.3dB | R:  69.6dB | Diff:  -8.4dB | Avg:  65.4dB\n",
      "   2: L:  61.9dB | R:  61.7dB | Diff:   0.2dB | Avg:  61.8dB\n",
      "   3: L:  70.0dB | R:  64.5dB | Diff:   5.5dB | Avg:  67.3dB\n",
      "   4: L:  60.5dB | R:  67.9dB | Diff:  -7.4dB | Avg:  64.2dB\n",
      "   5: L:  64.0dB | R:  59.3dB | Diff:   4.7dB | Avg:  61.6dB\n",
      "\n",
      "Commands:\n",
      "[s] Start/Stop recording\n",
      "[l] Add label\n",
      "[v] View recent data\n",
      "[i] Change ESP32 IP\n",
      "[q] Quit\n"
     ]
    },
    {
     "name": "stdin",
     "output_type": "stream",
     "text": [
      "\n",
      "Enter command:  l\n"
     ]
    },
    {
     "name": "stdout",
     "output_type": "stream",
     "text": [
      "\n",
      "Available labels:\n",
      "[1] Speaker count (1, 2, 3+)\n",
      "[2] Meeting type (discussion, presentation, brainstorm, argument)\n",
      "[3] Energy level (low, medium, high)\n",
      "[4] Background noise (none, low, medium, high)\n",
      "[5] Custom label\n"
     ]
    },
    {
     "name": "stdin",
     "output_type": "stream",
     "text": [
      "Select label type (1-5):  4\n",
      "Background noise (none/low/medium/high):  medium\n"
     ]
    },
    {
     "name": "stdout",
     "output_type": "stream",
     "text": [
      "Added label: background_noise = medium\n",
      "\n",
      "============================================================\n",
      "Meeting Audio Recorder v1.0\n",
      "ESP32: 192.168.0.110:81 - CONNECTED\n",
      "Status: RECORDING\n",
      "Recording Duration: 68.1 seconds\n",
      "Samples Collected: 120\n",
      "Session ID: meeting_20250624_133532\n",
      "\n",
      "Current Labels:\n",
      "   speaker_count: 3+\n",
      "   meeting_type: discussion\n",
      "   energy_level: medium\n",
      "   background_noise: medium\n",
      "============================================================\n",
      "Recent Audio Data:\n",
      "   1: L:  59.8dB | R:  66.3dB | Diff:  -6.5dB | Avg:  63.1dB\n",
      "   2: L:  70.0dB | R:  65.4dB | Diff:   4.6dB | Avg:  67.7dB\n",
      "   3: L:  59.4dB | R:  62.9dB | Diff:  -3.5dB | Avg:  61.1dB\n",
      "   4: L:  67.9dB | R:  65.1dB | Diff:   2.7dB | Avg:  66.5dB\n",
      "   5: L:  68.3dB | R:  67.6dB | Diff:   0.7dB | Avg:  67.9dB\n",
      "\n",
      "Commands:\n",
      "[s] Start/Stop recording\n",
      "[l] Add label\n",
      "[v] View recent data\n",
      "[i] Change ESP32 IP\n",
      "[q] Quit\n"
     ]
    },
    {
     "name": "stdin",
     "output_type": "stream",
     "text": [
      "\n",
      "Enter command:  s\n"
     ]
    },
    {
     "name": "stdout",
     "output_type": "stream",
     "text": [
      "Recording stopped. Duration: 350.7 seconds\n",
      "Samples collected: 450\n",
      "Updated master CSV: labels/sessions_master.csv\n",
      "Session saved:\n",
      "   Audio: recordings/meeting_20250624_133532_audio.json\n",
      "   Labels: labels/meeting_20250624_133532_labels.json\n",
      "\n",
      "============================================================\n",
      "Meeting Audio Recorder v1.0\n",
      "ESP32: 192.168.0.110:81 - CONNECTED\n",
      "Status: STOPPED\n",
      "============================================================\n",
      "Recent Audio Data:\n",
      "   1: L:  60.5dB | R:  65.7dB | Diff:  -5.2dB | Avg:  63.1dB\n",
      "   2: L:  63.2dB | R:  61.0dB | Diff:   2.2dB | Avg:  62.1dB\n",
      "   3: L:  68.0dB | R:  66.3dB | Diff:   1.6dB | Avg:  67.1dB\n",
      "   4: L:  70.0dB | R:  69.7dB | Diff:   0.3dB | Avg:  69.8dB\n",
      "   5: L:  69.6dB | R:  69.8dB | Diff:  -0.2dB | Avg:  69.7dB\n",
      "\n",
      "Commands:\n",
      "[s] Start/Stop recording\n",
      "[l] Add label\n",
      "[v] View recent data\n",
      "[i] Change ESP32 IP\n",
      "[q] Quit\n"
     ]
    },
    {
     "name": "stdin",
     "output_type": "stream",
     "text": [
      "\n",
      "Enter command:  s\n"
     ]
    },
    {
     "name": "stdout",
     "output_type": "stream",
     "text": [
      "Recording started: meeting_20250624_134208\n",
      "\n",
      "============================================================\n",
      "Meeting Audio Recorder v1.0\n",
      "ESP32: 192.168.0.110:81 - CONNECTED\n",
      "Status: RECORDING\n",
      "Recording Duration: 0.0 seconds\n",
      "Samples Collected: 0\n",
      "Session ID: meeting_20250624_134208\n",
      "\n",
      "Current Labels:\n",
      "============================================================\n",
      "Recent Audio Data:\n",
      "   1: L:  60.5dB | R:  65.7dB | Diff:  -5.2dB | Avg:  63.1dB\n",
      "   2: L:  63.2dB | R:  61.0dB | Diff:   2.2dB | Avg:  62.1dB\n",
      "   3: L:  68.0dB | R:  66.3dB | Diff:   1.6dB | Avg:  67.1dB\n",
      "   4: L:  70.0dB | R:  69.7dB | Diff:   0.3dB | Avg:  69.8dB\n",
      "   5: L:  69.6dB | R:  69.8dB | Diff:  -0.2dB | Avg:  69.7dB\n",
      "\n",
      "Commands:\n",
      "[s] Start/Stop recording\n",
      "[l] Add label\n",
      "[v] View recent data\n",
      "[i] Change ESP32 IP\n",
      "[q] Quit\n"
     ]
    },
    {
     "name": "stdin",
     "output_type": "stream",
     "text": [
      "\n",
      "Enter command:  l\n"
     ]
    },
    {
     "name": "stdout",
     "output_type": "stream",
     "text": [
      "\n",
      "Available labels:\n",
      "[1] Speaker count (1, 2, 3+)\n",
      "[2] Meeting type (discussion, presentation, brainstorm, argument)\n",
      "[3] Energy level (low, medium, high)\n",
      "[4] Background noise (none, low, medium, high)\n",
      "[5] Custom label\n"
     ]
    },
    {
     "name": "stdin",
     "output_type": "stream",
     "text": [
      "Select label type (1-5):  3+\n"
     ]
    },
    {
     "name": "stdout",
     "output_type": "stream",
     "text": [
      "\n",
      "============================================================\n",
      "Meeting Audio Recorder v1.0\n",
      "ESP32: 192.168.0.110:81 - CONNECTED\n",
      "Status: RECORDING\n",
      "Recording Duration: 8.0 seconds\n",
      "Samples Collected: 0\n",
      "Session ID: meeting_20250624_134208\n",
      "\n",
      "Current Labels:\n",
      "============================================================\n",
      "Recent Audio Data:\n",
      "   1: L:  60.5dB | R:  65.7dB | Diff:  -5.2dB | Avg:  63.1dB\n",
      "   2: L:  63.2dB | R:  61.0dB | Diff:   2.2dB | Avg:  62.1dB\n",
      "   3: L:  68.0dB | R:  66.3dB | Diff:   1.6dB | Avg:  67.1dB\n",
      "   4: L:  70.0dB | R:  69.7dB | Diff:   0.3dB | Avg:  69.8dB\n",
      "   5: L:  69.6dB | R:  69.8dB | Diff:  -0.2dB | Avg:  69.7dB\n",
      "\n",
      "Commands:\n",
      "[s] Start/Stop recording\n",
      "[l] Add label\n",
      "[v] View recent data\n",
      "[i] Change ESP32 IP\n",
      "[q] Quit\n"
     ]
    },
    {
     "name": "stdin",
     "output_type": "stream",
     "text": [
      "\n",
      "Enter command:  l\n"
     ]
    },
    {
     "name": "stdout",
     "output_type": "stream",
     "text": [
      "\n",
      "Available labels:\n",
      "[1] Speaker count (1, 2, 3+)\n",
      "[2] Meeting type (discussion, presentation, brainstorm, argument)\n",
      "[3] Energy level (low, medium, high)\n",
      "[4] Background noise (none, low, medium, high)\n",
      "[5] Custom label\n"
     ]
    },
    {
     "name": "stdin",
     "output_type": "stream",
     "text": [
      "Select label type (1-5):  2\n",
      "Meeting type (discussion/presentation/brainstorm/argument):  discussion\n"
     ]
    },
    {
     "name": "stdout",
     "output_type": "stream",
     "text": [
      "Added label: meeting_type = discussion\n",
      "\n",
      "============================================================\n",
      "Meeting Audio Recorder v1.0\n",
      "ESP32: 192.168.0.110:81 - CONNECTED\n",
      "Status: RECORDING\n",
      "Recording Duration: 23.8 seconds\n",
      "Samples Collected: 0\n",
      "Session ID: meeting_20250624_134208\n",
      "\n",
      "Current Labels:\n",
      "   meeting_type: discussion\n",
      "============================================================\n",
      "Recent Audio Data:\n",
      "   1: L:  60.5dB | R:  65.7dB | Diff:  -5.2dB | Avg:  63.1dB\n",
      "   2: L:  63.2dB | R:  61.0dB | Diff:   2.2dB | Avg:  62.1dB\n",
      "   3: L:  68.0dB | R:  66.3dB | Diff:   1.6dB | Avg:  67.1dB\n",
      "   4: L:  70.0dB | R:  69.7dB | Diff:   0.3dB | Avg:  69.8dB\n",
      "   5: L:  69.6dB | R:  69.8dB | Diff:  -0.2dB | Avg:  69.7dB\n",
      "\n",
      "Commands:\n",
      "[s] Start/Stop recording\n",
      "[l] Add label\n",
      "[v] View recent data\n",
      "[i] Change ESP32 IP\n",
      "[q] Quit\n"
     ]
    },
    {
     "name": "stdin",
     "output_type": "stream",
     "text": [
      "\n",
      "Enter command:  l\n"
     ]
    },
    {
     "name": "stdout",
     "output_type": "stream",
     "text": [
      "\n",
      "Available labels:\n",
      "[1] Speaker count (1, 2, 3+)\n",
      "[2] Meeting type (discussion, presentation, brainstorm, argument)\n",
      "[3] Energy level (low, medium, high)\n",
      "[4] Background noise (none, low, medium, high)\n",
      "[5] Custom label\n"
     ]
    },
    {
     "name": "stdin",
     "output_type": "stream",
     "text": [
      "Select label type (1-5):  3\n",
      "Energy level (low/medium/high):  medium\n"
     ]
    },
    {
     "name": "stdout",
     "output_type": "stream",
     "text": [
      "Added label: energy_level = medium\n",
      "\n",
      "============================================================\n",
      "Meeting Audio Recorder v1.0\n",
      "ESP32: 192.168.0.110:81 - CONNECTED\n",
      "Status: RECORDING\n",
      "Recording Duration: 29.5 seconds\n",
      "Samples Collected: 0\n",
      "Session ID: meeting_20250624_134208\n",
      "\n",
      "Current Labels:\n",
      "   meeting_type: discussion\n",
      "   energy_level: medium\n",
      "============================================================\n",
      "Recent Audio Data:\n",
      "   1: L:  60.5dB | R:  65.7dB | Diff:  -5.2dB | Avg:  63.1dB\n",
      "   2: L:  63.2dB | R:  61.0dB | Diff:   2.2dB | Avg:  62.1dB\n",
      "   3: L:  68.0dB | R:  66.3dB | Diff:   1.6dB | Avg:  67.1dB\n",
      "   4: L:  70.0dB | R:  69.7dB | Diff:   0.3dB | Avg:  69.8dB\n",
      "   5: L:  69.6dB | R:  69.8dB | Diff:  -0.2dB | Avg:  69.7dB\n",
      "\n",
      "Commands:\n",
      "[s] Start/Stop recording\n",
      "[l] Add label\n",
      "[v] View recent data\n",
      "[i] Change ESP32 IP\n",
      "[q] Quit\n"
     ]
    },
    {
     "name": "stdin",
     "output_type": "stream",
     "text": [
      "\n",
      "Enter command:  l\n"
     ]
    },
    {
     "name": "stdout",
     "output_type": "stream",
     "text": [
      "\n",
      "Available labels:\n",
      "[1] Speaker count (1, 2, 3+)\n",
      "[2] Meeting type (discussion, presentation, brainstorm, argument)\n",
      "[3] Energy level (low, medium, high)\n",
      "[4] Background noise (none, low, medium, high)\n",
      "[5] Custom label\n"
     ]
    },
    {
     "name": "stdin",
     "output_type": "stream",
     "text": [
      "Select label type (1-5):  4\n",
      "Background noise (none/low/medium/high):  low\n"
     ]
    },
    {
     "name": "stdout",
     "output_type": "stream",
     "text": [
      "Added label: background_noise = low\n",
      "\n",
      "============================================================\n",
      "Meeting Audio Recorder v1.0\n",
      "ESP32: 192.168.0.110:81 - CONNECTED\n",
      "Status: RECORDING\n",
      "Recording Duration: 36.7 seconds\n",
      "Samples Collected: 0\n",
      "Session ID: meeting_20250624_134208\n",
      "\n",
      "Current Labels:\n",
      "   meeting_type: discussion\n",
      "   energy_level: medium\n",
      "   background_noise: low\n",
      "============================================================\n",
      "Recent Audio Data:\n",
      "   1: L:  60.5dB | R:  65.7dB | Diff:  -5.2dB | Avg:  63.1dB\n",
      "   2: L:  63.2dB | R:  61.0dB | Diff:   2.2dB | Avg:  62.1dB\n",
      "   3: L:  68.0dB | R:  66.3dB | Diff:   1.6dB | Avg:  67.1dB\n",
      "   4: L:  70.0dB | R:  69.7dB | Diff:   0.3dB | Avg:  69.8dB\n",
      "   5: L:  69.6dB | R:  69.8dB | Diff:  -0.2dB | Avg:  69.7dB\n",
      "\n",
      "Commands:\n",
      "[s] Start/Stop recording\n",
      "[l] Add label\n",
      "[v] View recent data\n",
      "[i] Change ESP32 IP\n",
      "[q] Quit\n"
     ]
    }
   ],
   "source": [
    "class MeetingDataCollector:\n",
    "    def __init__(self, esp32_ip=\"192.168.1.100\", port=81):\n",
    "        self.esp32_ip = esp32_ip\n",
    "        self.port = port\n",
    "        self.ws_url = f\"ws://{esp32_ip}:{port}\"\n",
    "        \n",
    "        # Data storage\n",
    "        self.audio_data = deque(maxlen=10000)  # Store last 10k samples\n",
    "        self.session_data = []\n",
    "        self.recording = False\n",
    "        self.connected = False\n",
    "        \n",
    "        # Session metadata\n",
    "        self.session_id = None\n",
    "        self.session_labels = {}\n",
    "        self.start_time = None\n",
    "        \n",
    "        # Create directories\n",
    "        os.makedirs(\"recordings\", exist_ok=True)\n",
    "        os.makedirs(\"labels\", exist_ok=True)\n",
    "        \n",
    "        # WebSocket setup\n",
    "        self.ws = None\n",
    "        self.running = True\n",
    "        \n",
    "        # Setup signal handler for graceful shutdown\n",
    "        signal.signal(signal.SIGINT, self.signal_handler)\n",
    "    \n",
    "    def signal_handler(self, signum, frame):\n",
    "        \"\"\"Handle Ctrl+C gracefully\"\"\"\n",
    "        print(\"\\nShutting down gracefully...\")\n",
    "        self.stop_recording()\n",
    "        self.running = False\n",
    "        if self.ws:\n",
    "            self.ws.close()\n",
    "        sys.exit(0)\n",
    "    \n",
    "    def on_message(self, ws, message):\n",
    "        \"\"\"Handle incoming WebSocket messages\"\"\"\n",
    "        try:\n",
    "            data = json.loads(message)\n",
    "            \n",
    "            # Add local timestamp\n",
    "            data['local_timestamp'] = time.time()\n",
    "            data['local_datetime'] = datetime.now().isoformat()\n",
    "            \n",
    "            # Store data\n",
    "            self.audio_data.append(data)\n",
    "            \n",
    "            # If recording, add to session data\n",
    "            if self.recording:\n",
    "                self.session_data.append(data)\n",
    "                \n",
    "        except json.JSONDecodeError:\n",
    "            print(f\"Error parsing message: {message}\")\n",
    "        except Exception as e:\n",
    "            print(f\"Error in on_message: {e}\")\n",
    "    \n",
    "    def on_error(self, ws, error):\n",
    "        \"\"\"Handle WebSocket errors\"\"\"\n",
    "        print(f\"WebSocket error: {error}\")\n",
    "        self.connected = False\n",
    "    \n",
    "    def on_close(self, ws, close_status_code, close_msg):\n",
    "        \"\"\"Handle WebSocket close\"\"\"\n",
    "        print(\"WebSocket connection closed\")\n",
    "        self.connected = False\n",
    "    \n",
    "    def on_open(self, ws):\n",
    "        \"\"\"Handle WebSocket open\"\"\"\n",
    "        print(\"Connected to ESP32!\")\n",
    "        self.connected = True\n",
    "    \n",
    "    def connect_to_esp32(self):\n",
    "        \"\"\"Connect to ESP32 WebSocket\"\"\"\n",
    "        print(f\"Connecting to ESP32 at {self.ws_url}...\")\n",
    "        \n",
    "        try:\n",
    "            self.ws = websocket.WebSocketApp(\n",
    "                self.ws_url,\n",
    "                on_message=self.on_message,\n",
    "                on_error=self.on_error,\n",
    "                on_close=self.on_close,\n",
    "                on_open=self.on_open\n",
    "            )\n",
    "            \n",
    "            # Start WebSocket in separate thread\n",
    "            self.ws_thread = threading.Thread(target=self.ws.run_forever)\n",
    "            self.ws_thread.daemon = True\n",
    "            self.ws_thread.start()\n",
    "            \n",
    "            # Wait for connection\n",
    "            timeout = 10\n",
    "            for i in range(timeout):\n",
    "                if self.connected:\n",
    "                    return True\n",
    "                time.sleep(1)\n",
    "                print(f\"Waiting for connection... ({i+1}/{timeout})\")\n",
    "            \n",
    "            print(\"Connection timeout!\")\n",
    "            return False\n",
    "            \n",
    "        except Exception as e:\n",
    "            print(f\"Connection failed: {e}\")\n",
    "            return False\n",
    "    \n",
    "    def start_recording(self):\n",
    "        \"\"\"Start a new recording session\"\"\"\n",
    "        if self.recording:\n",
    "            print(\"Already recording!\")\n",
    "            return\n",
    "        \n",
    "        # Generate session ID\n",
    "        self.session_id = f\"meeting_{datetime.now().strftime('%Y%m%d_%H%M%S')}\"\n",
    "        self.start_time = time.time()\n",
    "        self.session_data = []\n",
    "        self.session_labels = {\n",
    "            'session_id': self.session_id,\n",
    "            'start_time': datetime.now().isoformat(),\n",
    "            'esp32_ip': self.esp32_ip\n",
    "        }\n",
    "        \n",
    "        self.recording = True\n",
    "        print(f\"Recording started: {self.session_id}\")\n",
    "    \n",
    "    def stop_recording(self):\n",
    "        \"\"\"Stop recording and save data\"\"\"\n",
    "        if not self.recording:\n",
    "            print(\"Not currently recording!\")\n",
    "            return\n",
    "        \n",
    "        self.recording = False\n",
    "        duration = time.time() - self.start_time\n",
    "        \n",
    "        print(f\"Recording stopped. Duration: {duration:.1f} seconds\")\n",
    "        print(f\"Samples collected: {len(self.session_data)}\")\n",
    "        \n",
    "        if len(self.session_data) > 0:\n",
    "            self.save_session()\n",
    "        else:\n",
    "            print(\"No data to save!\")\n",
    "    \n",
    "    def save_session(self):\n",
    "        \"\"\"Save session data to files\"\"\"\n",
    "        if not self.session_data:\n",
    "            print(\"No data to save!\")\n",
    "            return\n",
    "        \n",
    "        try:\n",
    "            # Add final metadata\n",
    "            self.session_labels['end_time'] = datetime.now().isoformat()\n",
    "            self.session_labels['duration_seconds'] = time.time() - self.start_time\n",
    "            self.session_labels['sample_count'] = len(self.session_data)\n",
    "            \n",
    "            # Save audio data as JSON\n",
    "            audio_filename = f\"recordings/{self.session_id}_audio.json\"\n",
    "            with open(audio_filename, 'w') as f:\n",
    "                json.dump(self.session_data, f, indent=2)\n",
    "            \n",
    "            # Save labels as JSON\n",
    "            labels_filename = f\"labels/{self.session_id}_labels.json\"\n",
    "            with open(labels_filename, 'w') as f:\n",
    "                json.dump(self.session_labels, f, indent=2)\n",
    "            \n",
    "            # Append to master CSV\n",
    "            self.update_master_csv()\n",
    "            \n",
    "            print(f\"Session saved:\")\n",
    "            print(f\"   Audio: {audio_filename}\")\n",
    "            print(f\"   Labels: {labels_filename}\")\n",
    "            \n",
    "        except Exception as e:\n",
    "            print(f\"Error saving session: {e}\")\n",
    "    \n",
    "    def update_master_csv(self):\n",
    "        \"\"\"Update master CSV with session summary\"\"\"\n",
    "        csv_file = \"labels/sessions_master.csv\"\n",
    "        \n",
    "        # Create summary row\n",
    "        summary = {\n",
    "            'session_id': self.session_labels['session_id'],\n",
    "            'start_time': self.session_labels['start_time'],\n",
    "            'duration_seconds': self.session_labels['duration_seconds'],\n",
    "            'sample_count': self.session_labels['sample_count'],\n",
    "            'speaker_count': self.session_labels.get('speaker_count', 'unknown'),\n",
    "            'meeting_type': self.session_labels.get('meeting_type', 'unknown'),\n",
    "            'energy_level': self.session_labels.get('energy_level', 'unknown'),\n",
    "            'background_noise': self.session_labels.get('background_noise', 'unknown'),\n",
    "            'notes': self.session_labels.get('notes', '')\n",
    "        }\n",
    "        \n",
    "        # Load existing CSV or create new one\n",
    "        if os.path.exists(csv_file):\n",
    "            df = pd.read_csv(csv_file)\n",
    "            df = pd.concat([df, pd.DataFrame([summary])], ignore_index=True)\n",
    "        else:\n",
    "            df = pd.DataFrame([summary])\n",
    "        \n",
    "        df.to_csv(csv_file, index=False)\n",
    "        print(f\"Updated master CSV: {csv_file}\")\n",
    "    \n",
    "    def add_label(self, key, value):\n",
    "        \"\"\"Add a label to current session\"\"\"\n",
    "        if not self.recording:\n",
    "            print(\"Start recording first!\")\n",
    "            return\n",
    "        \n",
    "        self.session_labels[key] = value\n",
    "        print(f\"Added label: {key} = {value}\")\n",
    "    \n",
    "    def show_current_data(self):\n",
    "        \"\"\"Display current audio data\"\"\"\n",
    "        if not self.audio_data:\n",
    "            print(\"No data received yet...\")\n",
    "            return\n",
    "        \n",
    "        # Get last 5 samples\n",
    "        recent_samples = list(self.audio_data)[-5:]\n",
    "        \n",
    "        print(\"Recent Audio Data:\")\n",
    "        for i, sample in enumerate(recent_samples, 1):\n",
    "            left = sample.get('leftMic', 0)\n",
    "            right = sample.get('rightMic', 0)\n",
    "            diff = sample.get('difference', 0)\n",
    "            avg = sample.get('averageLevel', 0)\n",
    "            \n",
    "            print(f\"   {i}: L:{left:6.1f}dB | R:{right:6.1f}dB | Diff:{diff:6.1f}dB | Avg:{avg:6.1f}dB\")\n",
    "    \n",
    "    def show_status(self):\n",
    "        \"\"\"Display current status\"\"\"\n",
    "        status = \"RECORDING\" if self.recording else \"STOPPED\"\n",
    "        connection = \"CONNECTED\" if self.connected else \"DISCONNECTED\"\n",
    "        \n",
    "        print(f\"\\n{'='*60}\")\n",
    "        print(f\"Meeting Audio Recorder v1.0\")\n",
    "        print(f\"ESP32: {self.esp32_ip}:{self.port} - {connection}\")\n",
    "        print(f\"Status: {status}\")\n",
    "        \n",
    "        if self.recording:\n",
    "            duration = time.time() - self.start_time\n",
    "            print(f\"Recording Duration: {duration:.1f} seconds\")\n",
    "            print(f\"Samples Collected: {len(self.session_data)}\")\n",
    "            print(f\"Session ID: {self.session_id}\")\n",
    "            \n",
    "            print(f\"\\nCurrent Labels:\")\n",
    "            for key, value in self.session_labels.items():\n",
    "                if key not in ['session_id', 'start_time', 'esp32_ip']:\n",
    "                    print(f\"   {key}: {value}\")\n",
    "        \n",
    "        print(f\"{'='*60}\")\n",
    "    \n",
    "    def interactive_menu(self):\n",
    "        \"\"\"Main interactive menu\"\"\"\n",
    "        print(\"Starting Meeting Audio Data Collector...\")\n",
    "        \n",
    "        # Connect to ESP32\n",
    "        if not self.connect_to_esp32():\n",
    "            print(\"Failed to connect to ESP32. Please check IP and ensure ESP32 is running.\")\n",
    "            return\n",
    "        \n",
    "        # Wait a moment for data to start flowing\n",
    "        time.sleep(2)\n",
    "        \n",
    "        while self.running:\n",
    "            try:\n",
    "                self.show_status()\n",
    "                self.show_current_data()\n",
    "                \n",
    "                print(f\"\\nCommands:\")\n",
    "                print(f\"[s] Start/Stop recording\")\n",
    "                print(f\"[l] Add label\")\n",
    "                print(f\"[v] View recent data\")\n",
    "                print(f\"[i] Change ESP32 IP\")\n",
    "                print(f\"[q] Quit\")\n",
    "                \n",
    "                choice = input(\"\\nEnter command: \").strip().lower()\n",
    "                \n",
    "                if choice == 's':\n",
    "                    if self.recording:\n",
    "                        self.stop_recording()\n",
    "                    else:\n",
    "                        self.start_recording()\n",
    "                \n",
    "                elif choice == 'l':\n",
    "                    if not self.recording:\n",
    "                        print(\"Start recording first!\")\n",
    "                        continue\n",
    "                    \n",
    "                    print(\"\\nAvailable labels:\")\n",
    "                    print(\"[1] Speaker count (1, 2, 3+)\")\n",
    "                    print(\"[2] Meeting type (discussion, presentation, brainstorm, argument)\")\n",
    "                    print(\"[3] Energy level (low, medium, high)\")\n",
    "                    print(\"[4] Background noise (none, low, medium, high)\")\n",
    "                    print(\"[5] Custom label\")\n",
    "                    \n",
    "                    label_choice = input(\"Select label type (1-5): \").strip()\n",
    "                    \n",
    "                    if label_choice == '1':\n",
    "                        value = input(\"Number of speakers (1, 2, 3+): \").strip()\n",
    "                        self.add_label('speaker_count', value)\n",
    "                    elif label_choice == '2':\n",
    "                        value = input(\"Meeting type (discussion/presentation/brainstorm/argument): \").strip()\n",
    "                        self.add_label('meeting_type', value)\n",
    "                    elif label_choice == '3':\n",
    "                        value = input(\"Energy level (low/medium/high): \").strip()\n",
    "                        self.add_label('energy_level', value)\n",
    "                    elif label_choice == '4':\n",
    "                        value = input(\"Background noise (none/low/medium/high): \").strip()\n",
    "                        self.add_label('background_noise', value)\n",
    "                    elif label_choice == '5':\n",
    "                        key = input(\"Label name: \").strip()\n",
    "                        value = input(\"Label value: \").strip()\n",
    "                        self.add_label(key, value)\n",
    "                \n",
    "                elif choice == 'v':\n",
    "                    self.show_current_data()\n",
    "                    input(\"Press Enter to continue...\")\n",
    "                \n",
    "                elif choice == 'i':\n",
    "                    new_ip = input(f\"Current IP: {self.esp32_ip}. Enter new IP: \").strip()\n",
    "                    if new_ip:\n",
    "                        self.esp32_ip = new_ip\n",
    "                        self.ws_url = f\"ws://{new_ip}:{self.port}\"\n",
    "                        print(f\"IP updated to {new_ip}. Restart to connect.\")\n",
    "                \n",
    "                elif choice == 'q':\n",
    "                    if self.recording:\n",
    "                        print(\"Still recording! Stopping...\")\n",
    "                        self.stop_recording()\n",
    "                    break\n",
    "                \n",
    "                else:\n",
    "                    print(\"Invalid command!\")\n",
    "                \n",
    "            except KeyboardInterrupt:\n",
    "                break\n",
    "            except Exception as e:\n",
    "                print(f\"Error in menu: {e}\")\n",
    "        \n",
    "        print(\"Goodbye!\")\n",
    "\n",
    "def main():\n",
    "    \"\"\"Main function\"\"\"\n",
    "    print(\"Meeting Audio Data Collector v1.0\")\n",
    "    print(\"=\"*50)\n",
    "    \n",
    "    # Get ESP32 IP\n",
    "    default_ip = \"192.168.1.100\"\n",
    "    esp32_ip = input(f\"ESP32 IP address ({default_ip}): \").strip()\n",
    "    if not esp32_ip:\n",
    "        esp32_ip = default_ip\n",
    "    \n",
    "    # Create collector and start\n",
    "    collector = MeetingDataCollector(esp32_ip)\n",
    "    collector.interactive_menu()\n",
    "\n",
    "if __name__ == \"__main__\":\n",
    "    main()"
   ]
  },
  {
   "cell_type": "code",
   "execution_count": null,
   "id": "84f1c6c5-5bd9-4625-a157-ba74ba1e76f6",
   "metadata": {},
   "outputs": [],
   "source": []
  },
  {
   "cell_type": "code",
   "execution_count": null,
   "id": "2bd215b9-9dfb-45a8-9e6b-a276c5e6c0e0",
   "metadata": {},
   "outputs": [],
   "source": []
  },
  {
   "cell_type": "code",
   "execution_count": null,
   "id": "0e11b66d-2ecd-4856-90f7-bfd0d1011949",
   "metadata": {},
   "outputs": [
    {
     "name": "stdout",
     "output_type": "stream",
     "text": [
      "Meeting Audio Data Collector v1.0\n",
      "==================================================\n"
     ]
    },
    {
     "name": "stdin",
     "output_type": "stream",
     "text": [
      "ESP32 IP address (192.168.1.100):  192.168.0.110\n"
     ]
    },
    {
     "name": "stdout",
     "output_type": "stream",
     "text": [
      "Starting Meeting Audio Data Collector...\n",
      "Connecting to ESP32 at ws://192.168.0.110:81...\n",
      "Connected to ESP32!\n",
      "Waiting for connection... (1/10)\n",
      "\n",
      "============================================================\n",
      "Meeting Audio Recorder v1.0\n",
      "ESP32: 192.168.0.110:81 - CONNECTED\n",
      "Status: STOPPED\n",
      "============================================================\n",
      "Recent Audio Data:\n",
      "   1: L:  75.9dB | R:  76.6dB | Diff:  -0.7dB | Avg:  76.2dB\n",
      "   2: L:  68.7dB | R:  65.3dB | Diff:   3.3dB | Avg:  67.0dB\n",
      "   3: L:  64.2dB | R:  65.6dB | Diff:  -1.4dB | Avg:  64.9dB\n",
      "   4: L:  71.5dB | R:  64.1dB | Diff:   7.4dB | Avg:  67.8dB\n",
      "   5: L:  59.0dB | R:  66.4dB | Diff:  -7.3dB | Avg:  62.7dB\n",
      "\n",
      "Commands:\n",
      "[s] Start/Stop recording\n",
      "[l] Add label\n",
      "[v] View recent data\n",
      "[i] Change ESP32 IP\n",
      "[q] Quit\n"
     ]
    },
    {
     "name": "stdin",
     "output_type": "stream",
     "text": [
      "\n",
      "Enter command:  s\n"
     ]
    },
    {
     "name": "stdout",
     "output_type": "stream",
     "text": [
      "Recording started: meeting_20250624_135319\n",
      "\n",
      "============================================================\n",
      "Meeting Audio Recorder v1.0\n",
      "ESP32: 192.168.0.110:81 - CONNECTED\n",
      "Status: RECORDING\n",
      "Recording Duration: 0.0 seconds\n",
      "Samples Collected: 0\n",
      "Session ID: meeting_20250624_135319\n",
      "\n",
      "Current Labels:\n",
      "============================================================\n",
      "Recent Audio Data:\n",
      "   1: L:  59.0dB | R:  66.4dB | Diff:  -7.3dB | Avg:  62.7dB\n",
      "   2: L:  63.5dB | R:  63.9dB | Diff:  -0.3dB | Avg:  63.7dB\n",
      "   3: L:  60.9dB | R:  66.4dB | Diff:  -5.5dB | Avg:  63.6dB\n",
      "   4: L:  61.5dB | R:  67.3dB | Diff:  -5.7dB | Avg:  64.4dB\n",
      "   5: L:  69.1dB | R:  64.0dB | Diff:   5.1dB | Avg:  66.5dB\n",
      "\n",
      "Commands:\n",
      "[s] Start/Stop recording\n",
      "[l] Add label\n",
      "[v] View recent data\n",
      "[i] Change ESP32 IP\n",
      "[q] Quit\n"
     ]
    },
    {
     "name": "stdin",
     "output_type": "stream",
     "text": [
      "\n",
      "Enter command:  l\n"
     ]
    },
    {
     "name": "stdout",
     "output_type": "stream",
     "text": [
      "\n",
      "Available labels:\n",
      "[1] Speaker count (1, 2, 3+)\n",
      "[2] Meeting type (discussion, presentation, brainstorm, argument)\n",
      "[3] Energy level (low, medium, high)\n",
      "[4] Background noise (none, low, medium, high)\n",
      "[5] Custom label\n"
     ]
    },
    {
     "name": "stdin",
     "output_type": "stream",
     "text": [
      "Select label type (1-5):  3+\n"
     ]
    },
    {
     "name": "stdout",
     "output_type": "stream",
     "text": [
      "\n",
      "============================================================\n",
      "Meeting Audio Recorder v1.0\n",
      "ESP32: 192.168.0.110:81 - CONNECTED\n",
      "Status: RECORDING\n",
      "Recording Duration: 10.1 seconds\n",
      "Samples Collected: 18\n",
      "Session ID: meeting_20250624_135319\n",
      "\n",
      "Current Labels:\n",
      "============================================================\n",
      "Recent Audio Data:\n",
      "   1: L:  68.7dB | R:  66.6dB | Diff:   2.1dB | Avg:  67.6dB\n",
      "   2: L:  61.7dB | R:  63.8dB | Diff:  -2.1dB | Avg:  62.8dB\n",
      "   3: L:  63.7dB | R:  64.9dB | Diff:  -1.2dB | Avg:  64.3dB\n",
      "   4: L:  74.3dB | R:  69.0dB | Diff:   5.4dB | Avg:  71.7dB\n",
      "   5: L:  69.0dB | R:  64.6dB | Diff:   4.4dB | Avg:  66.8dB\n",
      "\n",
      "Commands:\n",
      "[s] Start/Stop recording\n",
      "[l] Add label\n",
      "[v] View recent data\n",
      "[i] Change ESP32 IP\n",
      "[q] Quit\n"
     ]
    },
    {
     "name": "stdin",
     "output_type": "stream",
     "text": [
      "\n",
      "Enter command:  l\n"
     ]
    },
    {
     "name": "stdout",
     "output_type": "stream",
     "text": [
      "\n",
      "Available labels:\n",
      "[1] Speaker count (1, 2, 3+)\n",
      "[2] Meeting type (discussion, presentation, brainstorm, argument)\n",
      "[3] Energy level (low, medium, high)\n",
      "[4] Background noise (none, low, medium, high)\n",
      "[5] Custom label\n"
     ]
    },
    {
     "name": "stdin",
     "output_type": "stream",
     "text": [
      "Select label type (1-5):  2\n",
      "Meeting type (discussion/presentation/brainstorm/argument):  brainstorm\n"
     ]
    },
    {
     "name": "stdout",
     "output_type": "stream",
     "text": [
      "Added label: meeting_type = brainstorm\n",
      "\n",
      "============================================================\n",
      "Meeting Audio Recorder v1.0\n",
      "ESP32: 192.168.0.110:81 - CONNECTED\n",
      "Status: RECORDING\n",
      "Recording Duration: 39.3 seconds\n",
      "Samples Collected: 69\n",
      "Session ID: meeting_20250624_135319\n",
      "\n",
      "Current Labels:\n",
      "   meeting_type: brainstorm\n",
      "============================================================\n",
      "Recent Audio Data:\n",
      "   1: L:  62.8dB | R:  61.0dB | Diff:   1.8dB | Avg:  61.9dB\n",
      "   2: L:  60.8dB | R:  63.5dB | Diff:  -2.7dB | Avg:  62.1dB\n",
      "   3: L:  65.0dB | R:  70.1dB | Diff:  -5.1dB | Avg:  67.5dB\n",
      "   4: L:  68.4dB | R:  66.7dB | Diff:   1.7dB | Avg:  67.5dB\n",
      "   5: L:  67.5dB | R:  64.7dB | Diff:   2.8dB | Avg:  66.1dB\n",
      "\n",
      "Commands:\n",
      "[s] Start/Stop recording\n",
      "[l] Add label\n",
      "[v] View recent data\n",
      "[i] Change ESP32 IP\n",
      "[q] Quit\n"
     ]
    },
    {
     "name": "stdin",
     "output_type": "stream",
     "text": [
      "\n",
      "Enter command:  l\n"
     ]
    },
    {
     "name": "stdout",
     "output_type": "stream",
     "text": [
      "\n",
      "Available labels:\n",
      "[1] Speaker count (1, 2, 3+)\n",
      "[2] Meeting type (discussion, presentation, brainstorm, argument)\n",
      "[3] Energy level (low, medium, high)\n",
      "[4] Background noise (none, low, medium, high)\n",
      "[5] Custom label\n"
     ]
    },
    {
     "name": "stdin",
     "output_type": "stream",
     "text": [
      "Select label type (1-5):  3\n",
      "Energy level (low/medium/high):  high\n"
     ]
    },
    {
     "name": "stdout",
     "output_type": "stream",
     "text": [
      "Added label: energy_level = high\n",
      "\n",
      "============================================================\n",
      "Meeting Audio Recorder v1.0\n",
      "ESP32: 192.168.0.110:81 - CONNECTED\n",
      "Status: RECORDING\n",
      "Recording Duration: 52.5 seconds\n",
      "Samples Collected: 93\n",
      "Session ID: meeting_20250624_135319\n",
      "\n",
      "Current Labels:\n",
      "   meeting_type: brainstorm\n",
      "   energy_level: high\n",
      "============================================================\n",
      "Recent Audio Data:\n",
      "   1: L:  65.4dB | R:  66.3dB | Diff:  -0.9dB | Avg:  65.8dB\n",
      "   2: L:  64.3dB | R:  65.1dB | Diff:  -0.8dB | Avg:  64.7dB\n",
      "   3: L:  62.8dB | R:  59.9dB | Diff:   2.9dB | Avg:  61.3dB\n",
      "   4: L:  68.0dB | R:  62.2dB | Diff:   5.8dB | Avg:  65.1dB\n",
      "   5: L:  67.1dB | R:  67.5dB | Diff:  -0.3dB | Avg:  67.3dB\n",
      "\n",
      "Commands:\n",
      "[s] Start/Stop recording\n",
      "[l] Add label\n",
      "[v] View recent data\n",
      "[i] Change ESP32 IP\n",
      "[q] Quit\n"
     ]
    },
    {
     "name": "stdin",
     "output_type": "stream",
     "text": [
      "\n",
      "Enter command:  l\n"
     ]
    },
    {
     "name": "stdout",
     "output_type": "stream",
     "text": [
      "\n",
      "Available labels:\n",
      "[1] Speaker count (1, 2, 3+)\n",
      "[2] Meeting type (discussion, presentation, brainstorm, argument)\n",
      "[3] Energy level (low, medium, high)\n",
      "[4] Background noise (none, low, medium, high)\n",
      "[5] Custom label\n"
     ]
    },
    {
     "name": "stdin",
     "output_type": "stream",
     "text": [
      "Select label type (1-5):  4\n",
      "Background noise (none/low/medium/high):  medium\n"
     ]
    },
    {
     "name": "stdout",
     "output_type": "stream",
     "text": [
      "Added label: background_noise = medium\n",
      "\n",
      "============================================================\n",
      "Meeting Audio Recorder v1.0\n",
      "ESP32: 192.168.0.110:81 - CONNECTED\n",
      "Status: RECORDING\n",
      "Recording Duration: 63.5 seconds\n",
      "Samples Collected: 112\n",
      "Session ID: meeting_20250624_135319\n",
      "\n",
      "Current Labels:\n",
      "   meeting_type: brainstorm\n",
      "   energy_level: high\n",
      "   background_noise: medium\n",
      "============================================================\n",
      "Recent Audio Data:\n",
      "   1: L:  63.0dB | R:  60.8dB | Diff:   2.2dB | Avg:  61.9dB\n",
      "   2: L:  61.9dB | R:  67.4dB | Diff:  -5.5dB | Avg:  64.7dB\n",
      "   3: L:  65.4dB | R:  68.5dB | Diff:  -3.1dB | Avg:  67.0dB\n",
      "   4: L:  68.8dB | R:  64.4dB | Diff:   4.4dB | Avg:  66.6dB\n",
      "   5: L:  65.2dB | R:  63.1dB | Diff:   2.1dB | Avg:  64.2dB\n",
      "\n",
      "Commands:\n",
      "[s] Start/Stop recording\n",
      "[l] Add label\n",
      "[v] View recent data\n",
      "[i] Change ESP32 IP\n",
      "[q] Quit\n"
     ]
    },
    {
     "name": "stdin",
     "output_type": "stream",
     "text": [
      "\n",
      "Enter command:  l\n"
     ]
    },
    {
     "name": "stdout",
     "output_type": "stream",
     "text": [
      "\n",
      "Available labels:\n",
      "[1] Speaker count (1, 2, 3+)\n",
      "[2] Meeting type (discussion, presentation, brainstorm, argument)\n",
      "[3] Energy level (low, medium, high)\n",
      "[4] Background noise (none, low, medium, high)\n",
      "[5] Custom label\n"
     ]
    },
    {
     "name": "stdin",
     "output_type": "stream",
     "text": [
      "Select label type (1-5):  1\n",
      "Number of speakers (1, 2, 3+):  3+\n"
     ]
    },
    {
     "name": "stdout",
     "output_type": "stream",
     "text": [
      "Added label: speaker_count = 3+\n",
      "\n",
      "============================================================\n",
      "Meeting Audio Recorder v1.0\n",
      "ESP32: 192.168.0.110:81 - CONNECTED\n",
      "Status: RECORDING\n",
      "Recording Duration: 157.2 seconds\n",
      "Samples Collected: 196\n",
      "Session ID: meeting_20250624_135319\n",
      "\n",
      "Current Labels:\n",
      "   meeting_type: brainstorm\n",
      "   energy_level: high\n",
      "   background_noise: medium\n",
      "   speaker_count: 3+\n",
      "============================================================\n",
      "Recent Audio Data:\n",
      "   1: L:  70.8dB | R:  64.0dB | Diff:   6.7dB | Avg:  67.4dB\n",
      "   2: L:  73.6dB | R:  71.0dB | Diff:   2.7dB | Avg:  72.3dB\n",
      "   3: L:  68.2dB | R:  63.2dB | Diff:   5.0dB | Avg:  65.7dB\n",
      "   4: L:  65.6dB | R:  68.7dB | Diff:  -3.2dB | Avg:  67.1dB\n",
      "   5: L:  64.0dB | R:  63.6dB | Diff:   0.4dB | Avg:  63.8dB\n",
      "\n",
      "Commands:\n",
      "[s] Start/Stop recording\n",
      "[l] Add label\n",
      "[v] View recent data\n",
      "[i] Change ESP32 IP\n",
      "[q] Quit\n"
     ]
    },
    {
     "name": "stdin",
     "output_type": "stream",
     "text": [
      "\n",
      "Enter command:  s\n"
     ]
    },
    {
     "name": "stdout",
     "output_type": "stream",
     "text": [
      "Recording stopped. Duration: 231.8 seconds\n",
      "Samples collected: 196\n",
      "Updated master CSV: labels/sessions_master.csv\n",
      "Session saved:\n",
      "   Audio: recordings/meeting_20250624_135319_audio.json\n",
      "   Labels: labels/meeting_20250624_135319_labels.json\n",
      "\n",
      "============================================================\n",
      "Meeting Audio Recorder v1.0\n",
      "ESP32: 192.168.0.110:81 - CONNECTED\n",
      "Status: STOPPED\n",
      "============================================================\n",
      "Recent Audio Data:\n",
      "   1: L:  70.8dB | R:  64.0dB | Diff:   6.7dB | Avg:  67.4dB\n",
      "   2: L:  73.6dB | R:  71.0dB | Diff:   2.7dB | Avg:  72.3dB\n",
      "   3: L:  68.2dB | R:  63.2dB | Diff:   5.0dB | Avg:  65.7dB\n",
      "   4: L:  65.6dB | R:  68.7dB | Diff:  -3.2dB | Avg:  67.1dB\n",
      "   5: L:  64.0dB | R:  63.6dB | Diff:   0.4dB | Avg:  63.8dB\n",
      "\n",
      "Commands:\n",
      "[s] Start/Stop recording\n",
      "[l] Add label\n",
      "[v] View recent data\n",
      "[i] Change ESP32 IP\n",
      "[q] Quit\n"
     ]
    },
    {
     "name": "stdin",
     "output_type": "stream",
     "text": [
      "\n",
      "Enter command:  s\n"
     ]
    },
    {
     "name": "stdout",
     "output_type": "stream",
     "text": [
      "Recording started: meeting_20250624_141327\n",
      "\n",
      "============================================================\n",
      "Meeting Audio Recorder v1.0\n",
      "ESP32: 192.168.0.110:81 - CONNECTED\n",
      "Status: RECORDING\n",
      "Recording Duration: 0.0 seconds\n",
      "Samples Collected: 0\n",
      "Session ID: meeting_20250624_141327\n",
      "\n",
      "Current Labels:\n",
      "============================================================\n",
      "Recent Audio Data:\n",
      "   1: L:  70.8dB | R:  64.0dB | Diff:   6.7dB | Avg:  67.4dB\n",
      "   2: L:  73.6dB | R:  71.0dB | Diff:   2.7dB | Avg:  72.3dB\n",
      "   3: L:  68.2dB | R:  63.2dB | Diff:   5.0dB | Avg:  65.7dB\n",
      "   4: L:  65.6dB | R:  68.7dB | Diff:  -3.2dB | Avg:  67.1dB\n",
      "   5: L:  64.0dB | R:  63.6dB | Diff:   0.4dB | Avg:  63.8dB\n",
      "\n",
      "Commands:\n",
      "[s] Start/Stop recording\n",
      "[l] Add label\n",
      "[v] View recent data\n",
      "[i] Change ESP32 IP\n",
      "[q] Quit\n"
     ]
    },
    {
     "name": "stdin",
     "output_type": "stream",
     "text": [
      "\n",
      "Enter command:  v\n"
     ]
    },
    {
     "name": "stdout",
     "output_type": "stream",
     "text": [
      "Recent Audio Data:\n",
      "   1: L:  70.8dB | R:  64.0dB | Diff:   6.7dB | Avg:  67.4dB\n",
      "   2: L:  73.6dB | R:  71.0dB | Diff:   2.7dB | Avg:  72.3dB\n",
      "   3: L:  68.2dB | R:  63.2dB | Diff:   5.0dB | Avg:  65.7dB\n",
      "   4: L:  65.6dB | R:  68.7dB | Diff:  -3.2dB | Avg:  67.1dB\n",
      "   5: L:  64.0dB | R:  63.6dB | Diff:   0.4dB | Avg:  63.8dB\n"
     ]
    },
    {
     "name": "stdin",
     "output_type": "stream",
     "text": [
      "Press Enter to continue... \n"
     ]
    },
    {
     "name": "stdout",
     "output_type": "stream",
     "text": [
      "\n",
      "============================================================\n",
      "Meeting Audio Recorder v1.0\n",
      "ESP32: 192.168.0.110:81 - CONNECTED\n",
      "Status: RECORDING\n",
      "Recording Duration: 16.6 seconds\n",
      "Samples Collected: 0\n",
      "Session ID: meeting_20250624_141327\n",
      "\n",
      "Current Labels:\n",
      "============================================================\n",
      "Recent Audio Data:\n",
      "   1: L:  70.8dB | R:  64.0dB | Diff:   6.7dB | Avg:  67.4dB\n",
      "   2: L:  73.6dB | R:  71.0dB | Diff:   2.7dB | Avg:  72.3dB\n",
      "   3: L:  68.2dB | R:  63.2dB | Diff:   5.0dB | Avg:  65.7dB\n",
      "   4: L:  65.6dB | R:  68.7dB | Diff:  -3.2dB | Avg:  67.1dB\n",
      "   5: L:  64.0dB | R:  63.6dB | Diff:   0.4dB | Avg:  63.8dB\n",
      "\n",
      "Commands:\n",
      "[s] Start/Stop recording\n",
      "[l] Add label\n",
      "[v] View recent data\n",
      "[i] Change ESP32 IP\n",
      "[q] Quit\n"
     ]
    },
    {
     "name": "stdin",
     "output_type": "stream",
     "text": [
      "\n",
      "Enter command:  s\n"
     ]
    },
    {
     "name": "stdout",
     "output_type": "stream",
     "text": [
      "Recording stopped. Duration: 19.3 seconds\n",
      "Samples collected: 0\n",
      "No data to save!\n",
      "\n",
      "============================================================\n",
      "Meeting Audio Recorder v1.0\n",
      "ESP32: 192.168.0.110:81 - CONNECTED\n",
      "Status: STOPPED\n",
      "============================================================\n",
      "Recent Audio Data:\n",
      "   1: L:  70.8dB | R:  64.0dB | Diff:   6.7dB | Avg:  67.4dB\n",
      "   2: L:  73.6dB | R:  71.0dB | Diff:   2.7dB | Avg:  72.3dB\n",
      "   3: L:  68.2dB | R:  63.2dB | Diff:   5.0dB | Avg:  65.7dB\n",
      "   4: L:  65.6dB | R:  68.7dB | Diff:  -3.2dB | Avg:  67.1dB\n",
      "   5: L:  64.0dB | R:  63.6dB | Diff:   0.4dB | Avg:  63.8dB\n",
      "\n",
      "Commands:\n",
      "[s] Start/Stop recording\n",
      "[l] Add label\n",
      "[v] View recent data\n",
      "[i] Change ESP32 IP\n",
      "[q] Quit\n"
     ]
    },
    {
     "name": "stdin",
     "output_type": "stream",
     "text": [
      "\n",
      "Enter command:  s\n"
     ]
    },
    {
     "name": "stdout",
     "output_type": "stream",
     "text": [
      "Recording started: meeting_20250624_141351\n",
      "\n",
      "============================================================\n",
      "Meeting Audio Recorder v1.0\n",
      "ESP32: 192.168.0.110:81 - CONNECTED\n",
      "Status: RECORDING\n",
      "Recording Duration: 0.0 seconds\n",
      "Samples Collected: 0\n",
      "Session ID: meeting_20250624_141351\n",
      "\n",
      "Current Labels:\n",
      "============================================================\n",
      "Recent Audio Data:\n",
      "   1: L:  70.8dB | R:  64.0dB | Diff:   6.7dB | Avg:  67.4dB\n",
      "   2: L:  73.6dB | R:  71.0dB | Diff:   2.7dB | Avg:  72.3dB\n",
      "   3: L:  68.2dB | R:  63.2dB | Diff:   5.0dB | Avg:  65.7dB\n",
      "   4: L:  65.6dB | R:  68.7dB | Diff:  -3.2dB | Avg:  67.1dB\n",
      "   5: L:  64.0dB | R:  63.6dB | Diff:   0.4dB | Avg:  63.8dB\n",
      "\n",
      "Commands:\n",
      "[s] Start/Stop recording\n",
      "[l] Add label\n",
      "[v] View recent data\n",
      "[i] Change ESP32 IP\n",
      "[q] Quit\n"
     ]
    },
    {
     "name": "stdin",
     "output_type": "stream",
     "text": [
      "\n",
      "Enter command:  l\n"
     ]
    },
    {
     "name": "stdout",
     "output_type": "stream",
     "text": [
      "\n",
      "Available labels:\n",
      "[1] Speaker count (1, 2, 3+)\n",
      "[2] Meeting type (discussion, presentation, brainstorm, argument)\n",
      "[3] Energy level (low, medium, high)\n",
      "[4] Background noise (none, low, medium, high)\n",
      "[5] Custom label\n"
     ]
    },
    {
     "name": "stdin",
     "output_type": "stream",
     "text": [
      "Select label type (1-5):  1\n",
      "Number of speakers (1, 2, 3+):  3+\n"
     ]
    },
    {
     "name": "stdout",
     "output_type": "stream",
     "text": [
      "Added label: speaker_count = 3+\n",
      "\n",
      "============================================================\n",
      "Meeting Audio Recorder v1.0\n",
      "ESP32: 192.168.0.110:81 - CONNECTED\n",
      "Status: RECORDING\n",
      "Recording Duration: 10.2 seconds\n",
      "Samples Collected: 0\n",
      "Session ID: meeting_20250624_141351\n",
      "\n",
      "Current Labels:\n",
      "   speaker_count: 3+\n",
      "============================================================\n",
      "Recent Audio Data:\n",
      "   1: L:  70.8dB | R:  64.0dB | Diff:   6.7dB | Avg:  67.4dB\n",
      "   2: L:  73.6dB | R:  71.0dB | Diff:   2.7dB | Avg:  72.3dB\n",
      "   3: L:  68.2dB | R:  63.2dB | Diff:   5.0dB | Avg:  65.7dB\n",
      "   4: L:  65.6dB | R:  68.7dB | Diff:  -3.2dB | Avg:  67.1dB\n",
      "   5: L:  64.0dB | R:  63.6dB | Diff:   0.4dB | Avg:  63.8dB\n",
      "\n",
      "Commands:\n",
      "[s] Start/Stop recording\n",
      "[l] Add label\n",
      "[v] View recent data\n",
      "[i] Change ESP32 IP\n",
      "[q] Quit\n"
     ]
    },
    {
     "name": "stdin",
     "output_type": "stream",
     "text": [
      "\n",
      "Enter command:  l\n"
     ]
    },
    {
     "name": "stdout",
     "output_type": "stream",
     "text": [
      "\n",
      "Available labels:\n",
      "[1] Speaker count (1, 2, 3+)\n",
      "[2] Meeting type (discussion, presentation, brainstorm, argument)\n",
      "[3] Energy level (low, medium, high)\n",
      "[4] Background noise (none, low, medium, high)\n",
      "[5] Custom label\n"
     ]
    },
    {
     "name": "stdin",
     "output_type": "stream",
     "text": [
      "Select label type (1-5):  2\n",
      "Meeting type (discussion/presentation/brainstorm/argument):  brainstorm\n"
     ]
    },
    {
     "name": "stdout",
     "output_type": "stream",
     "text": [
      "Added label: meeting_type = brainstorm\n",
      "\n",
      "============================================================\n",
      "Meeting Audio Recorder v1.0\n",
      "ESP32: 192.168.0.110:81 - CONNECTED\n",
      "Status: RECORDING\n",
      "Recording Duration: 30.6 seconds\n",
      "Samples Collected: 0\n",
      "Session ID: meeting_20250624_141351\n",
      "\n",
      "Current Labels:\n",
      "   speaker_count: 3+\n",
      "   meeting_type: brainstorm\n",
      "============================================================\n",
      "Recent Audio Data:\n",
      "   1: L:  70.8dB | R:  64.0dB | Diff:   6.7dB | Avg:  67.4dB\n",
      "   2: L:  73.6dB | R:  71.0dB | Diff:   2.7dB | Avg:  72.3dB\n",
      "   3: L:  68.2dB | R:  63.2dB | Diff:   5.0dB | Avg:  65.7dB\n",
      "   4: L:  65.6dB | R:  68.7dB | Diff:  -3.2dB | Avg:  67.1dB\n",
      "   5: L:  64.0dB | R:  63.6dB | Diff:   0.4dB | Avg:  63.8dB\n",
      "\n",
      "Commands:\n",
      "[s] Start/Stop recording\n",
      "[l] Add label\n",
      "[v] View recent data\n",
      "[i] Change ESP32 IP\n",
      "[q] Quit\n"
     ]
    },
    {
     "name": "stdin",
     "output_type": "stream",
     "text": [
      "\n",
      "Enter command:  l\n"
     ]
    },
    {
     "name": "stdout",
     "output_type": "stream",
     "text": [
      "\n",
      "Available labels:\n",
      "[1] Speaker count (1, 2, 3+)\n",
      "[2] Meeting type (discussion, presentation, brainstorm, argument)\n",
      "[3] Energy level (low, medium, high)\n",
      "[4] Background noise (none, low, medium, high)\n",
      "[5] Custom label\n"
     ]
    },
    {
     "name": "stdin",
     "output_type": "stream",
     "text": [
      "Select label type (1-5):  3\n",
      "Energy level (low/medium/high):  medium\n"
     ]
    },
    {
     "name": "stdout",
     "output_type": "stream",
     "text": [
      "Added label: energy_level = medium\n",
      "\n",
      "============================================================\n",
      "Meeting Audio Recorder v1.0\n",
      "ESP32: 192.168.0.110:81 - CONNECTED\n",
      "Status: RECORDING\n",
      "Recording Duration: 45.9 seconds\n",
      "Samples Collected: 0\n",
      "Session ID: meeting_20250624_141351\n",
      "\n",
      "Current Labels:\n",
      "   speaker_count: 3+\n",
      "   meeting_type: brainstorm\n",
      "   energy_level: medium\n",
      "============================================================\n",
      "Recent Audio Data:\n",
      "   1: L:  70.8dB | R:  64.0dB | Diff:   6.7dB | Avg:  67.4dB\n",
      "   2: L:  73.6dB | R:  71.0dB | Diff:   2.7dB | Avg:  72.3dB\n",
      "   3: L:  68.2dB | R:  63.2dB | Diff:   5.0dB | Avg:  65.7dB\n",
      "   4: L:  65.6dB | R:  68.7dB | Diff:  -3.2dB | Avg:  67.1dB\n",
      "   5: L:  64.0dB | R:  63.6dB | Diff:   0.4dB | Avg:  63.8dB\n",
      "\n",
      "Commands:\n",
      "[s] Start/Stop recording\n",
      "[l] Add label\n",
      "[v] View recent data\n",
      "[i] Change ESP32 IP\n",
      "[q] Quit\n"
     ]
    },
    {
     "name": "stdin",
     "output_type": "stream",
     "text": [
      "\n",
      "Enter command:  l\n"
     ]
    },
    {
     "name": "stdout",
     "output_type": "stream",
     "text": [
      "\n",
      "Available labels:\n",
      "[1] Speaker count (1, 2, 3+)\n",
      "[2] Meeting type (discussion, presentation, brainstorm, argument)\n",
      "[3] Energy level (low, medium, high)\n",
      "[4] Background noise (none, low, medium, high)\n",
      "[5] Custom label\n"
     ]
    },
    {
     "name": "stdin",
     "output_type": "stream",
     "text": [
      "Select label type (1-5):  4\n",
      "Background noise (none/low/medium/high):  low\n"
     ]
    },
    {
     "name": "stdout",
     "output_type": "stream",
     "text": [
      "Added label: background_noise = low\n",
      "\n",
      "============================================================\n",
      "Meeting Audio Recorder v1.0\n",
      "ESP32: 192.168.0.110:81 - CONNECTED\n",
      "Status: RECORDING\n",
      "Recording Duration: 58.3 seconds\n",
      "Samples Collected: 0\n",
      "Session ID: meeting_20250624_141351\n",
      "\n",
      "Current Labels:\n",
      "   speaker_count: 3+\n",
      "   meeting_type: brainstorm\n",
      "   energy_level: medium\n",
      "   background_noise: low\n",
      "============================================================\n",
      "Recent Audio Data:\n",
      "   1: L:  70.8dB | R:  64.0dB | Diff:   6.7dB | Avg:  67.4dB\n",
      "   2: L:  73.6dB | R:  71.0dB | Diff:   2.7dB | Avg:  72.3dB\n",
      "   3: L:  68.2dB | R:  63.2dB | Diff:   5.0dB | Avg:  65.7dB\n",
      "   4: L:  65.6dB | R:  68.7dB | Diff:  -3.2dB | Avg:  67.1dB\n",
      "   5: L:  64.0dB | R:  63.6dB | Diff:   0.4dB | Avg:  63.8dB\n",
      "\n",
      "Commands:\n",
      "[s] Start/Stop recording\n",
      "[l] Add label\n",
      "[v] View recent data\n",
      "[i] Change ESP32 IP\n",
      "[q] Quit\n"
     ]
    },
    {
     "name": "stdin",
     "output_type": "stream",
     "text": [
      "\n",
      "Enter command:  l\n"
     ]
    },
    {
     "name": "stdout",
     "output_type": "stream",
     "text": [
      "\n",
      "Available labels:\n",
      "[1] Speaker count (1, 2, 3+)\n",
      "[2] Meeting type (discussion, presentation, brainstorm, argument)\n",
      "[3] Energy level (low, medium, high)\n",
      "[4] Background noise (none, low, medium, high)\n",
      "[5] Custom label\n"
     ]
    },
    {
     "name": "stdin",
     "output_type": "stream",
     "text": [
      "Select label type (1-5):  3\n",
      "Energy level (low/medium/high):  high\n"
     ]
    },
    {
     "name": "stdout",
     "output_type": "stream",
     "text": [
      "Added label: energy_level = high\n",
      "\n",
      "============================================================\n",
      "Meeting Audio Recorder v1.0\n",
      "ESP32: 192.168.0.110:81 - CONNECTED\n",
      "Status: RECORDING\n",
      "Recording Duration: 74.3 seconds\n",
      "Samples Collected: 0\n",
      "Session ID: meeting_20250624_141351\n",
      "\n",
      "Current Labels:\n",
      "   speaker_count: 3+\n",
      "   meeting_type: brainstorm\n",
      "   energy_level: high\n",
      "   background_noise: low\n",
      "============================================================\n",
      "Recent Audio Data:\n",
      "   1: L:  70.8dB | R:  64.0dB | Diff:   6.7dB | Avg:  67.4dB\n",
      "   2: L:  73.6dB | R:  71.0dB | Diff:   2.7dB | Avg:  72.3dB\n",
      "   3: L:  68.2dB | R:  63.2dB | Diff:   5.0dB | Avg:  65.7dB\n",
      "   4: L:  65.6dB | R:  68.7dB | Diff:  -3.2dB | Avg:  67.1dB\n",
      "   5: L:  64.0dB | R:  63.6dB | Diff:   0.4dB | Avg:  63.8dB\n",
      "\n",
      "Commands:\n",
      "[s] Start/Stop recording\n",
      "[l] Add label\n",
      "[v] View recent data\n",
      "[i] Change ESP32 IP\n",
      "[q] Quit\n"
     ]
    },
    {
     "name": "stdin",
     "output_type": "stream",
     "text": [
      "\n",
      "Enter command:  s\n"
     ]
    },
    {
     "name": "stdout",
     "output_type": "stream",
     "text": [
      "Recording stopped. Duration: 429.6 seconds\n",
      "Samples collected: 0\n",
      "No data to save!\n",
      "\n",
      "============================================================\n",
      "Meeting Audio Recorder v1.0\n",
      "ESP32: 192.168.0.110:81 - CONNECTED\n",
      "Status: STOPPED\n",
      "============================================================\n",
      "Recent Audio Data:\n",
      "   1: L:  70.8dB | R:  64.0dB | Diff:   6.7dB | Avg:  67.4dB\n",
      "   2: L:  73.6dB | R:  71.0dB | Diff:   2.7dB | Avg:  72.3dB\n",
      "   3: L:  68.2dB | R:  63.2dB | Diff:   5.0dB | Avg:  65.7dB\n",
      "   4: L:  65.6dB | R:  68.7dB | Diff:  -3.2dB | Avg:  67.1dB\n",
      "   5: L:  64.0dB | R:  63.6dB | Diff:   0.4dB | Avg:  63.8dB\n",
      "\n",
      "Commands:\n",
      "[s] Start/Stop recording\n",
      "[l] Add label\n",
      "[v] View recent data\n",
      "[i] Change ESP32 IP\n",
      "[q] Quit\n",
      "WebSocket error: Connection timed out\n",
      "WebSocket connection closed\n"
     ]
    }
   ],
   "source": [
    "class MeetingDataCollector:\n",
    "    def __init__(self, esp32_ip=\"192.168.1.100\", port=81):\n",
    "        self.esp32_ip = esp32_ip\n",
    "        self.port = port\n",
    "        self.ws_url = f\"ws://{esp32_ip}:{port}\"\n",
    "        \n",
    "        # Data storage\n",
    "        self.audio_data = deque(maxlen=10000)  # Store last 10k samples\n",
    "        self.session_data = []\n",
    "        self.recording = False\n",
    "        self.connected = False\n",
    "        \n",
    "        # Session metadata\n",
    "        self.session_id = None\n",
    "        self.session_labels = {}\n",
    "        self.start_time = None\n",
    "        \n",
    "        # Create directories\n",
    "        os.makedirs(\"recordings\", exist_ok=True)\n",
    "        os.makedirs(\"labels\", exist_ok=True)\n",
    "        \n",
    "        # WebSocket setup\n",
    "        self.ws = None\n",
    "        self.running = True\n",
    "        \n",
    "        # Setup signal handler for graceful shutdown\n",
    "        signal.signal(signal.SIGINT, self.signal_handler)\n",
    "    \n",
    "    def signal_handler(self, signum, frame):\n",
    "        \"\"\"Handle Ctrl+C gracefully\"\"\"\n",
    "        print(\"\\nShutting down gracefully...\")\n",
    "        self.stop_recording()\n",
    "        self.running = False\n",
    "        if self.ws:\n",
    "            self.ws.close()\n",
    "        sys.exit(0)\n",
    "    \n",
    "    def on_message(self, ws, message):\n",
    "        \"\"\"Handle incoming WebSocket messages\"\"\"\n",
    "        try:\n",
    "            data = json.loads(message)\n",
    "            \n",
    "            # Add local timestamp\n",
    "            data['local_timestamp'] = time.time()\n",
    "            data['local_datetime'] = datetime.now().isoformat()\n",
    "            \n",
    "            # Store data\n",
    "            self.audio_data.append(data)\n",
    "            \n",
    "            # If recording, add to session data\n",
    "            if self.recording:\n",
    "                self.session_data.append(data)\n",
    "                \n",
    "        except json.JSONDecodeError:\n",
    "            print(f\"Error parsing message: {message}\")\n",
    "        except Exception as e:\n",
    "            print(f\"Error in on_message: {e}\")\n",
    "    \n",
    "    def on_error(self, ws, error):\n",
    "        \"\"\"Handle WebSocket errors\"\"\"\n",
    "        print(f\"WebSocket error: {error}\")\n",
    "        self.connected = False\n",
    "    \n",
    "    def on_close(self, ws, close_status_code, close_msg):\n",
    "        \"\"\"Handle WebSocket close\"\"\"\n",
    "        print(\"WebSocket connection closed\")\n",
    "        self.connected = False\n",
    "    \n",
    "    def on_open(self, ws):\n",
    "        \"\"\"Handle WebSocket open\"\"\"\n",
    "        print(\"Connected to ESP32!\")\n",
    "        self.connected = True\n",
    "    \n",
    "    def connect_to_esp32(self):\n",
    "        \"\"\"Connect to ESP32 WebSocket\"\"\"\n",
    "        print(f\"Connecting to ESP32 at {self.ws_url}...\")\n",
    "        \n",
    "        try:\n",
    "            self.ws = websocket.WebSocketApp(\n",
    "                self.ws_url,\n",
    "                on_message=self.on_message,\n",
    "                on_error=self.on_error,\n",
    "                on_close=self.on_close,\n",
    "                on_open=self.on_open\n",
    "            )\n",
    "            \n",
    "            # Start WebSocket in separate thread\n",
    "            self.ws_thread = threading.Thread(target=self.ws.run_forever)\n",
    "            self.ws_thread.daemon = True\n",
    "            self.ws_thread.start()\n",
    "            \n",
    "            # Wait for connection\n",
    "            timeout = 10\n",
    "            for i in range(timeout):\n",
    "                if self.connected:\n",
    "                    return True\n",
    "                time.sleep(1)\n",
    "                print(f\"Waiting for connection... ({i+1}/{timeout})\")\n",
    "            \n",
    "            print(\"Connection timeout!\")\n",
    "            return False\n",
    "            \n",
    "        except Exception as e:\n",
    "            print(f\"Connection failed: {e}\")\n",
    "            return False\n",
    "    \n",
    "    def start_recording(self):\n",
    "        \"\"\"Start a new recording session\"\"\"\n",
    "        if self.recording:\n",
    "            print(\"Already recording!\")\n",
    "            return\n",
    "        \n",
    "        # Generate session ID\n",
    "        self.session_id = f\"meeting_{datetime.now().strftime('%Y%m%d_%H%M%S')}\"\n",
    "        self.start_time = time.time()\n",
    "        self.session_data = []\n",
    "        self.session_labels = {\n",
    "            'session_id': self.session_id,\n",
    "            'start_time': datetime.now().isoformat(),\n",
    "            'esp32_ip': self.esp32_ip\n",
    "        }\n",
    "        \n",
    "        self.recording = True\n",
    "        print(f\"Recording started: {self.session_id}\")\n",
    "    \n",
    "    def stop_recording(self):\n",
    "        \"\"\"Stop recording and save data\"\"\"\n",
    "        if not self.recording:\n",
    "            print(\"Not currently recording!\")\n",
    "            return\n",
    "        \n",
    "        self.recording = False\n",
    "        duration = time.time() - self.start_time\n",
    "        \n",
    "        print(f\"Recording stopped. Duration: {duration:.1f} seconds\")\n",
    "        print(f\"Samples collected: {len(self.session_data)}\")\n",
    "        \n",
    "        if len(self.session_data) > 0:\n",
    "            self.save_session()\n",
    "        else:\n",
    "            print(\"No data to save!\")\n",
    "    \n",
    "    def save_session(self):\n",
    "        \"\"\"Save session data to files\"\"\"\n",
    "        if not self.session_data:\n",
    "            print(\"No data to save!\")\n",
    "            return\n",
    "        \n",
    "        try:\n",
    "            # Add final metadata\n",
    "            self.session_labels['end_time'] = datetime.now().isoformat()\n",
    "            self.session_labels['duration_seconds'] = time.time() - self.start_time\n",
    "            self.session_labels['sample_count'] = len(self.session_data)\n",
    "            \n",
    "            # Save audio data as JSON\n",
    "            audio_filename = f\"recordings/{self.session_id}_audio.json\"\n",
    "            with open(audio_filename, 'w') as f:\n",
    "                json.dump(self.session_data, f, indent=2)\n",
    "            \n",
    "            # Save labels as JSON\n",
    "            labels_filename = f\"labels/{self.session_id}_labels.json\"\n",
    "            with open(labels_filename, 'w') as f:\n",
    "                json.dump(self.session_labels, f, indent=2)\n",
    "            \n",
    "            # Append to master CSV\n",
    "            self.update_master_csv()\n",
    "            \n",
    "            print(f\"Session saved:\")\n",
    "            print(f\"   Audio: {audio_filename}\")\n",
    "            print(f\"   Labels: {labels_filename}\")\n",
    "            \n",
    "        except Exception as e:\n",
    "            print(f\"Error saving session: {e}\")\n",
    "    \n",
    "    def update_master_csv(self):\n",
    "        \"\"\"Update master CSV with session summary\"\"\"\n",
    "        csv_file = \"labels/sessions_master.csv\"\n",
    "        \n",
    "        # Create summary row\n",
    "        summary = {\n",
    "            'session_id': self.session_labels['session_id'],\n",
    "            'start_time': self.session_labels['start_time'],\n",
    "            'duration_seconds': self.session_labels['duration_seconds'],\n",
    "            'sample_count': self.session_labels['sample_count'],\n",
    "            'speaker_count': self.session_labels.get('speaker_count', 'unknown'),\n",
    "            'meeting_type': self.session_labels.get('meeting_type', 'unknown'),\n",
    "            'energy_level': self.session_labels.get('energy_level', 'unknown'),\n",
    "            'background_noise': self.session_labels.get('background_noise', 'unknown'),\n",
    "            'notes': self.session_labels.get('notes', '')\n",
    "        }\n",
    "        \n",
    "        # Load existing CSV or create new one\n",
    "        if os.path.exists(csv_file):\n",
    "            df = pd.read_csv(csv_file)\n",
    "            df = pd.concat([df, pd.DataFrame([summary])], ignore_index=True)\n",
    "        else:\n",
    "            df = pd.DataFrame([summary])\n",
    "        \n",
    "        df.to_csv(csv_file, index=False)\n",
    "        print(f\"Updated master CSV: {csv_file}\")\n",
    "    \n",
    "    def add_label(self, key, value):\n",
    "        \"\"\"Add a label to current session\"\"\"\n",
    "        if not self.recording:\n",
    "            print(\"Start recording first!\")\n",
    "            return\n",
    "        \n",
    "        self.session_labels[key] = value\n",
    "        print(f\"Added label: {key} = {value}\")\n",
    "    \n",
    "    def show_current_data(self):\n",
    "        \"\"\"Display current audio data\"\"\"\n",
    "        if not self.audio_data:\n",
    "            print(\"No data received yet...\")\n",
    "            return\n",
    "        \n",
    "        # Get last 5 samples\n",
    "        recent_samples = list(self.audio_data)[-5:]\n",
    "        \n",
    "        print(\"Recent Audio Data:\")\n",
    "        for i, sample in enumerate(recent_samples, 1):\n",
    "            left = sample.get('leftMic', 0)\n",
    "            right = sample.get('rightMic', 0)\n",
    "            diff = sample.get('difference', 0)\n",
    "            avg = sample.get('averageLevel', 0)\n",
    "            \n",
    "            print(f\"   {i}: L:{left:6.1f}dB | R:{right:6.1f}dB | Diff:{diff:6.1f}dB | Avg:{avg:6.1f}dB\")\n",
    "    \n",
    "    def show_status(self):\n",
    "        \"\"\"Display current status\"\"\"\n",
    "        status = \"RECORDING\" if self.recording else \"STOPPED\"\n",
    "        connection = \"CONNECTED\" if self.connected else \"DISCONNECTED\"\n",
    "        \n",
    "        print(f\"\\n{'='*60}\")\n",
    "        print(f\"Meeting Audio Recorder v1.0\")\n",
    "        print(f\"ESP32: {self.esp32_ip}:{self.port} - {connection}\")\n",
    "        print(f\"Status: {status}\")\n",
    "        \n",
    "        if self.recording:\n",
    "            duration = time.time() - self.start_time\n",
    "            print(f\"Recording Duration: {duration:.1f} seconds\")\n",
    "            print(f\"Samples Collected: {len(self.session_data)}\")\n",
    "            print(f\"Session ID: {self.session_id}\")\n",
    "            \n",
    "            print(f\"\\nCurrent Labels:\")\n",
    "            for key, value in self.session_labels.items():\n",
    "                if key not in ['session_id', 'start_time', 'esp32_ip']:\n",
    "                    print(f\"   {key}: {value}\")\n",
    "        \n",
    "        print(f\"{'='*60}\")\n",
    "    \n",
    "    def interactive_menu(self):\n",
    "        \"\"\"Main interactive menu\"\"\"\n",
    "        print(\"Starting Meeting Audio Data Collector...\")\n",
    "        \n",
    "        # Connect to ESP32\n",
    "        if not self.connect_to_esp32():\n",
    "            print(\"Failed to connect to ESP32. Please check IP and ensure ESP32 is running.\")\n",
    "            return\n",
    "        \n",
    "        # Wait a moment for data to start flowing\n",
    "        time.sleep(2)\n",
    "        \n",
    "        while self.running:\n",
    "            try:\n",
    "                self.show_status()\n",
    "                self.show_current_data()\n",
    "                \n",
    "                print(f\"\\nCommands:\")\n",
    "                print(f\"[s] Start/Stop recording\")\n",
    "                print(f\"[l] Add label\")\n",
    "                print(f\"[v] View recent data\")\n",
    "                print(f\"[i] Change ESP32 IP\")\n",
    "                print(f\"[q] Quit\")\n",
    "                \n",
    "                choice = input(\"\\nEnter command: \").strip().lower()\n",
    "                \n",
    "                if choice == 's':\n",
    "                    if self.recording:\n",
    "                        self.stop_recording()\n",
    "                    else:\n",
    "                        self.start_recording()\n",
    "                \n",
    "                elif choice == 'l':\n",
    "                    if not self.recording:\n",
    "                        print(\"Start recording first!\")\n",
    "                        continue\n",
    "                    \n",
    "                    print(\"\\nAvailable labels:\")\n",
    "                    print(\"[1] Speaker count (1, 2, 3+)\")\n",
    "                    print(\"[2] Meeting type (discussion, presentation, brainstorm, argument)\")\n",
    "                    print(\"[3] Energy level (low, medium, high)\")\n",
    "                    print(\"[4] Background noise (none, low, medium, high)\")\n",
    "                    print(\"[5] Custom label\")\n",
    "                    \n",
    "                    label_choice = input(\"Select label type (1-5): \").strip()\n",
    "                    \n",
    "                    if label_choice == '1':\n",
    "                        value = input(\"Number of speakers (1, 2, 3+): \").strip()\n",
    "                        self.add_label('speaker_count', value)\n",
    "                    elif label_choice == '2':\n",
    "                        value = input(\"Meeting type (discussion/presentation/brainstorm/argument): \").strip()\n",
    "                        self.add_label('meeting_type', value)\n",
    "                    elif label_choice == '3':\n",
    "                        value = input(\"Energy level (low/medium/high): \").strip()\n",
    "                        self.add_label('energy_level', value)\n",
    "                    elif label_choice == '4':\n",
    "                        value = input(\"Background noise (none/low/medium/high): \").strip()\n",
    "                        self.add_label('background_noise', value)\n",
    "                    elif label_choice == '5':\n",
    "                        key = input(\"Label name: \").strip()\n",
    "                        value = input(\"Label value: \").strip()\n",
    "                        self.add_label(key, value)\n",
    "                \n",
    "                elif choice == 'v':\n",
    "                    self.show_current_data()\n",
    "                    input(\"Press Enter to continue...\")\n",
    "                \n",
    "                elif choice == 'i':\n",
    "                    new_ip = input(f\"Current IP: {self.esp32_ip}. Enter new IP: \").strip()\n",
    "                    if new_ip:\n",
    "                        self.esp32_ip = new_ip\n",
    "                        self.ws_url = f\"ws://{new_ip}:{self.port}\"\n",
    "                        print(f\"IP updated to {new_ip}. Restart to connect.\")\n",
    "                \n",
    "                elif choice == 'q':\n",
    "                    if self.recording:\n",
    "                        print(\"Still recording! Stopping...\")\n",
    "                        self.stop_recording()\n",
    "                    break\n",
    "                \n",
    "                else:\n",
    "                    print(\"Invalid command!\")\n",
    "                \n",
    "            except KeyboardInterrupt:\n",
    "                break\n",
    "            except Exception as e:\n",
    "                print(f\"Error in menu: {e}\")\n",
    "        \n",
    "        print(\"Goodbye!\")\n",
    "\n",
    "def main():\n",
    "    \"\"\"Main function\"\"\"\n",
    "    print(\"Meeting Audio Data Collector v1.0\")\n",
    "    print(\"=\"*50)\n",
    "    \n",
    "    # Get ESP32 IP\n",
    "    default_ip = \"192.168.1.100\"\n",
    "    esp32_ip = input(f\"ESP32 IP address ({default_ip}): \").strip()\n",
    "    if not esp32_ip:\n",
    "        esp32_ip = default_ip\n",
    "    \n",
    "    # Create collector and start\n",
    "    collector = MeetingDataCollector(esp32_ip)\n",
    "    collector.interactive_menu()\n",
    "\n",
    "if __name__ == \"__main__\":\n",
    "    main()"
   ]
  },
  {
   "cell_type": "code",
   "execution_count": 4,
   "id": "be1f7053-e0d2-4872-9e09-5695addde4e5",
   "metadata": {},
   "outputs": [
    {
     "ename": "SyntaxError",
     "evalue": "invalid syntax (900107361.py, line 2)",
     "output_type": "error",
     "traceback": [
      "\u001b[0;36m  Cell \u001b[0;32mIn[4], line 2\u001b[0;36m\u001b[0m\n\u001b[0;31m    cat labels/sessions_master.csv\u001b[0m\n\u001b[0m        ^\u001b[0m\n\u001b[0;31mSyntaxError\u001b[0m\u001b[0;31m:\u001b[0m invalid syntax\n"
     ]
    }
   ],
   "source": [
    "# Show me the contents of:\n",
    "cat labels/sessions_master.csv"
   ]
  },
  {
   "cell_type": "code",
   "execution_count": null,
   "id": "77b61902-e4f2-4e77-ae20-5c67d77ea99b",
   "metadata": {},
   "outputs": [],
   "source": []
  }
 ],
 "metadata": {
  "kernelspec": {
   "display_name": "Python 3 (ipykernel)",
   "language": "python",
   "name": "python3"
  },
  "language_info": {
   "codemirror_mode": {
    "name": "ipython",
    "version": 3
   },
   "file_extension": ".py",
   "mimetype": "text/x-python",
   "name": "python",
   "nbconvert_exporter": "python",
   "pygments_lexer": "ipython3",
   "version": "3.12.7"
  }
 },
 "nbformat": 4,
 "nbformat_minor": 5
}
